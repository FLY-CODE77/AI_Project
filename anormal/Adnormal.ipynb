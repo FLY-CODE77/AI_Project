{
 "cells": [
  {
   "cell_type": "markdown",
   "metadata": {},
   "source": [
    "## Theory "
   ]
  },
  {
   "cell_type": "markdown",
   "metadata": {},
   "source": [
    "### LSTM Autoencoder을 통한 Anomaly Detection"
   ]
  },
  {
   "cell_type": "markdown",
   "metadata": {},
   "source": [
    "{Autoencoder : 자기학습 모델}"
   ]
  },
  {
   "cell_type": "markdown",
   "metadata": {},
   "source": [
    "- Autoencoder의 경우 보통 이미지의 생성이나 복원에 많이 사용되며 \n",
    "- 구조를 이어받아 대표적인 딥러닝 생성 모델인 GAN(Generative Adversarial Network)으로 까지 이어짐"
   ]
  },
  {
   "cell_type": "markdown",
   "metadata": {},
   "source": [
    "- **LSTM Autoencoder 학습 시에는 정상(normal) 신호의 데이터로만 모델을 학습 시킨다**"
   ]
  },
  {
   "cell_type": "markdown",
   "metadata": {},
   "source": [
    "- encoder와 decoder는 학습이 진행될 수록 정상 신호를 정산 신호 답게 표현 하는 방법을 학습하고\n",
    "- 최종적으로 재 구성한 결과도 정산 신호와 유사한 분포를 가지는 데이터!!가 된다."
   ]
  },
  {
   "cell_type": "markdown",
   "metadata": {},
   "source": [
    "<img src=\"https://jaehyeongan.github.io/image/lstm-autoencoder-architecture2.png\">"
   ]
  },
  {
   "cell_type": "markdown",
   "metadata": {},
   "source": [
    "- 만약에 비 정상 신호를 입력에 넣게 된다면 정상 분포와 다른 특성의 분포를 나타낼것이기에 높은 reconstruction error가 생길것이다"
   ]
  },
  {
   "cell_type": "markdown",
   "metadata": {},
   "source": [
    "# Curve shifting을 적용한 lstm autoencoder "
   ]
  },
  {
   "cell_type": "markdown",
   "metadata": {},
   "source": [
    "<img src=\"https://jaehyeongan.github.io/image/lstm-autoencoder-through-curveshifting.png\">"
   ]
  },
  {
   "cell_type": "markdown",
   "metadata": {},
   "source": [
    "- Curve Shifting을 통해 데이터의 시점을 변환\n",
    "- normal 데이터만들 통해 LSTM Autoencoder 모델을 학습시키고,\n",
    "- 재구성 손실을 계산 후, Precision Recall Curve를 통해 noraml/adnormal을 구분하기 위한 \n",
    "- Threshold를 지정하고\n",
    "- Threshold 기준으로 마지막으로 테스트 셋의 재구성 손실을 분류 t+n 지점을 예측..!"
   ]
  },
  {
   "cell_type": "markdown",
   "metadata": {},
   "source": [
    "# Curve Shifting \n",
    "- Anomal data가 들어오기 전 고장 혹 결함 발생하기 전 미리 예측해야하는 Task 존재\n",
    "- 단순한 현재 시점의 error 계산은 비정산 신호 탐지하는것에서 고장 발생후의 예측임으로 \n",
    "- 데이터의 시점 변환이 꼭 필요하다"
   ]
  },
  {
   "cell_type": "markdown",
   "metadata": {},
   "source": [
    "<img src=\"https://jaehyeongan.github.io/image/curve-shifting.png\" align =\"left\">"
   ]
  },
  {
   "cell_type": "markdown",
   "metadata": {},
   "source": [
    "- 사전 예측 개념을 적용하기 위한 shifting method\n",
    "- pre error prediction"
   ]
  },
  {
   "cell_type": "markdown",
   "metadata": {},
   "source": [
    "# Anomaly Detection in Keras "
   ]
  },
  {
   "cell_type": "markdown",
   "metadata": {},
   "source": [
    "## Threshold by precision-Recall-Curve\n",
    "- Autoencoder에서 재구성된 결과 vs input를 비교 하여서 Reconstruction error를 계산하는데\n",
    "- error val 이 낮다면 정상, 높다면 비정상으로 판단하기로 하였다\n",
    "- 그러면 이 판단 기준은 어떻게 짜야 할까!?\n",
    "\n",
    "\n",
    "- 보통 classification 같은 경우는 50%를 기준으로 판단을 하지만\n",
    "- Reconstruction error 같은 경우는 극단적으로 값이 튀기 어렵기에.. \n",
    "- 타당한 threshold 값을 정하는 것이 필요하다"
   ]
  },
  {
   "cell_type": "markdown",
   "metadata": {},
   "source": [
    "# Precision Recall Val"
   ]
  },
  {
   "cell_type": "markdown",
   "metadata": {},
   "source": [
    "<img src=\"https://jaehyeongan.github.io/image/precision-recall-curve.png\">"
   ]
  },
  {
   "cell_type": "markdown",
   "metadata": {},
   "source": [
    "- recall과 precision이 tradoff 관계인 점을 이용해서 한쪽에 치우치는 않는 케이스를 찾기 위한 과정으로 \n",
    "- precision recall curve를 사용해준다"
   ]
  },
  {
   "cell_type": "markdown",
   "metadata": {},
   "source": [
    "# Sheet Break DATA - binary data"
   ]
  },
  {
   "cell_type": "code",
   "execution_count": 60,
   "metadata": {},
   "outputs": [],
   "source": [
    "import pandas as pd \n",
    "import numpy as np\n",
    "import matplotlib.pyplot as plt\n",
    "import seaborn as sns\n",
    "from pylab import rcParams\n",
    "from collections import Counter\n",
    "import tensorflow as tf\n",
    "# tensorflow 1.x version 2.x version i need\n",
    "from tensorflow.keras import Model ,models, layers, optimizers, regularizers\n",
    "from tensorflow.keras.callbacks import ModelCheckpoint\n",
    "\n",
    "from sklearn.preprocessing import StandardScaler\n",
    "from sklearn.model_selection import train_test_split\n",
    "from sklearn import metrics"
   ]
  },
  {
   "cell_type": "code",
   "execution_count": 61,
   "metadata": {},
   "outputs": [],
   "source": [
    "df = pd.read_csv(\"processminer-rare-event-mts - data.csv\")"
   ]
  },
  {
   "cell_type": "code",
   "execution_count": 62,
   "metadata": {},
   "outputs": [],
   "source": [
    "LABELS = ['Normal', 'Break']"
   ]
  },
  {
   "cell_type": "code",
   "execution_count": 63,
   "metadata": {
    "scrolled": true
   },
   "outputs": [
    {
     "data": {
      "text/html": [
       "<div>\n",
       "<style scoped>\n",
       "    .dataframe tbody tr th:only-of-type {\n",
       "        vertical-align: middle;\n",
       "    }\n",
       "\n",
       "    .dataframe tbody tr th {\n",
       "        vertical-align: top;\n",
       "    }\n",
       "\n",
       "    .dataframe thead th {\n",
       "        text-align: right;\n",
       "    }\n",
       "</style>\n",
       "<table border=\"1\" class=\"dataframe\">\n",
       "  <thead>\n",
       "    <tr style=\"text-align: right;\">\n",
       "      <th></th>\n",
       "      <th>time</th>\n",
       "      <th>y</th>\n",
       "      <th>x1</th>\n",
       "      <th>x2</th>\n",
       "      <th>x3</th>\n",
       "      <th>x4</th>\n",
       "      <th>x5</th>\n",
       "      <th>x6</th>\n",
       "      <th>x7</th>\n",
       "      <th>x8</th>\n",
       "      <th>...</th>\n",
       "      <th>x52</th>\n",
       "      <th>x53</th>\n",
       "      <th>x54</th>\n",
       "      <th>x55</th>\n",
       "      <th>x56</th>\n",
       "      <th>x57</th>\n",
       "      <th>x58</th>\n",
       "      <th>x59</th>\n",
       "      <th>x60</th>\n",
       "      <th>x61</th>\n",
       "    </tr>\n",
       "  </thead>\n",
       "  <tbody>\n",
       "    <tr>\n",
       "      <th>0</th>\n",
       "      <td>5/1/99 0:00</td>\n",
       "      <td>0</td>\n",
       "      <td>0.376665</td>\n",
       "      <td>-4.596435</td>\n",
       "      <td>-4.095756</td>\n",
       "      <td>13.497687</td>\n",
       "      <td>-0.118830</td>\n",
       "      <td>-20.669883</td>\n",
       "      <td>0.000732</td>\n",
       "      <td>-0.061114</td>\n",
       "      <td>...</td>\n",
       "      <td>10.091721</td>\n",
       "      <td>0.053279</td>\n",
       "      <td>-4.936434</td>\n",
       "      <td>-24.590146</td>\n",
       "      <td>18.515436</td>\n",
       "      <td>3.473400</td>\n",
       "      <td>0.033444</td>\n",
       "      <td>0.953219</td>\n",
       "      <td>0.006076</td>\n",
       "      <td>0</td>\n",
       "    </tr>\n",
       "    <tr>\n",
       "      <th>1</th>\n",
       "      <td>5/1/99 0:02</td>\n",
       "      <td>0</td>\n",
       "      <td>0.475720</td>\n",
       "      <td>-4.542502</td>\n",
       "      <td>-4.018359</td>\n",
       "      <td>16.230659</td>\n",
       "      <td>-0.128733</td>\n",
       "      <td>-18.758079</td>\n",
       "      <td>0.000732</td>\n",
       "      <td>-0.061114</td>\n",
       "      <td>...</td>\n",
       "      <td>10.095871</td>\n",
       "      <td>0.062801</td>\n",
       "      <td>-4.937179</td>\n",
       "      <td>-32.413266</td>\n",
       "      <td>22.760065</td>\n",
       "      <td>2.682933</td>\n",
       "      <td>0.033536</td>\n",
       "      <td>1.090502</td>\n",
       "      <td>0.006083</td>\n",
       "      <td>0</td>\n",
       "    </tr>\n",
       "    <tr>\n",
       "      <th>2</th>\n",
       "      <td>5/1/99 0:04</td>\n",
       "      <td>0</td>\n",
       "      <td>0.363848</td>\n",
       "      <td>-4.681394</td>\n",
       "      <td>-4.353147</td>\n",
       "      <td>14.127998</td>\n",
       "      <td>-0.138636</td>\n",
       "      <td>-17.836632</td>\n",
       "      <td>0.010803</td>\n",
       "      <td>-0.061114</td>\n",
       "      <td>...</td>\n",
       "      <td>10.100265</td>\n",
       "      <td>0.072322</td>\n",
       "      <td>-4.937924</td>\n",
       "      <td>-34.183774</td>\n",
       "      <td>27.004663</td>\n",
       "      <td>3.537487</td>\n",
       "      <td>0.033629</td>\n",
       "      <td>1.840540</td>\n",
       "      <td>0.006090</td>\n",
       "      <td>0</td>\n",
       "    </tr>\n",
       "    <tr>\n",
       "      <th>3</th>\n",
       "      <td>5/1/99 0:06</td>\n",
       "      <td>0</td>\n",
       "      <td>0.301590</td>\n",
       "      <td>-4.758934</td>\n",
       "      <td>-4.023612</td>\n",
       "      <td>13.161567</td>\n",
       "      <td>-0.148142</td>\n",
       "      <td>-18.517601</td>\n",
       "      <td>0.002075</td>\n",
       "      <td>-0.061114</td>\n",
       "      <td>...</td>\n",
       "      <td>10.104660</td>\n",
       "      <td>0.081600</td>\n",
       "      <td>-4.938669</td>\n",
       "      <td>-35.954281</td>\n",
       "      <td>21.672449</td>\n",
       "      <td>3.986095</td>\n",
       "      <td>0.033721</td>\n",
       "      <td>2.554880</td>\n",
       "      <td>0.006097</td>\n",
       "      <td>0</td>\n",
       "    </tr>\n",
       "    <tr>\n",
       "      <th>4</th>\n",
       "      <td>5/1/99 0:08</td>\n",
       "      <td>0</td>\n",
       "      <td>0.265578</td>\n",
       "      <td>-4.749928</td>\n",
       "      <td>-4.333150</td>\n",
       "      <td>15.267340</td>\n",
       "      <td>-0.155314</td>\n",
       "      <td>-17.505913</td>\n",
       "      <td>0.000732</td>\n",
       "      <td>-0.061114</td>\n",
       "      <td>...</td>\n",
       "      <td>10.109054</td>\n",
       "      <td>0.091121</td>\n",
       "      <td>-4.939414</td>\n",
       "      <td>-37.724789</td>\n",
       "      <td>21.907251</td>\n",
       "      <td>3.601573</td>\n",
       "      <td>0.033777</td>\n",
       "      <td>1.410494</td>\n",
       "      <td>0.006105</td>\n",
       "      <td>0</td>\n",
       "    </tr>\n",
       "  </tbody>\n",
       "</table>\n",
       "<p>5 rows × 63 columns</p>\n",
       "</div>"
      ],
      "text/plain": [
       "          time  y        x1        x2        x3         x4        x5  \\\n",
       "0  5/1/99 0:00  0  0.376665 -4.596435 -4.095756  13.497687 -0.118830   \n",
       "1  5/1/99 0:02  0  0.475720 -4.542502 -4.018359  16.230659 -0.128733   \n",
       "2  5/1/99 0:04  0  0.363848 -4.681394 -4.353147  14.127998 -0.138636   \n",
       "3  5/1/99 0:06  0  0.301590 -4.758934 -4.023612  13.161567 -0.148142   \n",
       "4  5/1/99 0:08  0  0.265578 -4.749928 -4.333150  15.267340 -0.155314   \n",
       "\n",
       "          x6        x7        x8  ...        x52       x53       x54  \\\n",
       "0 -20.669883  0.000732 -0.061114  ...  10.091721  0.053279 -4.936434   \n",
       "1 -18.758079  0.000732 -0.061114  ...  10.095871  0.062801 -4.937179   \n",
       "2 -17.836632  0.010803 -0.061114  ...  10.100265  0.072322 -4.937924   \n",
       "3 -18.517601  0.002075 -0.061114  ...  10.104660  0.081600 -4.938669   \n",
       "4 -17.505913  0.000732 -0.061114  ...  10.109054  0.091121 -4.939414   \n",
       "\n",
       "         x55        x56       x57       x58       x59       x60  x61  \n",
       "0 -24.590146  18.515436  3.473400  0.033444  0.953219  0.006076    0  \n",
       "1 -32.413266  22.760065  2.682933  0.033536  1.090502  0.006083    0  \n",
       "2 -34.183774  27.004663  3.537487  0.033629  1.840540  0.006090    0  \n",
       "3 -35.954281  21.672449  3.986095  0.033721  2.554880  0.006097    0  \n",
       "4 -37.724789  21.907251  3.601573  0.033777  1.410494  0.006105    0  \n",
       "\n",
       "[5 rows x 63 columns]"
      ]
     },
     "execution_count": 63,
     "metadata": {},
     "output_type": "execute_result"
    }
   ],
   "source": [
    "df.head()"
   ]
  },
  {
   "cell_type": "code",
   "execution_count": 64,
   "metadata": {},
   "outputs": [
    {
     "data": {
      "text/plain": [
       "Counter({0: 18274, 1: 124})"
      ]
     },
     "execution_count": 64,
     "metadata": {},
     "output_type": "execute_result"
    }
   ],
   "source": [
    "Counter(df['y']) # noraml 18274, break 124"
   ]
  },
  {
   "cell_type": "markdown",
   "metadata": {},
   "source": [
    "# Curve Shifting \n",
    "- 시간은 2분단위로 \n",
    "- 우리의 목표는 break 발생하기 4분 전에 조기 예측 "
   ]
  },
  {
   "cell_type": "code",
   "execution_count": 65,
   "metadata": {},
   "outputs": [],
   "source": [
    "sign = lambda x: (1, -1)[x < 0]\n",
    "def curve_shift(df, shift_by):\n",
    "    vector = df['y'].copy()\n",
    "    for s in range(abs(shift_by)):\n",
    "        tmp = vector.shift(sign(shift_by))\n",
    "        tmp = tmp.fillna(0)\n",
    "        vector += tmp\n",
    "    labelcol = 'y'\n",
    "    # Add vector to the df\n",
    "    df.insert(loc=0, column=labelcol+'tmp', value=vector)\n",
    "\n",
    "    # Remove the rows with labelcol == 1.\n",
    "    df = df.drop(df[df[labelcol] == 1].index)\n",
    "\n",
    "    # Drop labelcol and rename the tmp col as labelcol\n",
    "    df = df.drop(labelcol, axis=1)\n",
    "    df = df.rename(columns={labelcol+'tmp': labelcol})\n",
    "\n",
    "    # Make the labelcol binary\n",
    "    df.loc[df[labelcol] > 0, labelcol] = 1\n",
    "\n",
    "    return df"
   ]
  },
  {
   "cell_type": "code",
   "execution_count": null,
   "metadata": {},
   "outputs": [],
   "source": []
  },
  {
   "cell_type": "code",
   "execution_count": 66,
   "metadata": {
    "scrolled": false
   },
   "outputs": [
    {
     "data": {
      "text/html": [
       "<div>\n",
       "<style scoped>\n",
       "    .dataframe tbody tr th:only-of-type {\n",
       "        vertical-align: middle;\n",
       "    }\n",
       "\n",
       "    .dataframe tbody tr th {\n",
       "        vertical-align: top;\n",
       "    }\n",
       "\n",
       "    .dataframe thead th {\n",
       "        text-align: right;\n",
       "    }\n",
       "</style>\n",
       "<table border=\"1\" class=\"dataframe\">\n",
       "  <thead>\n",
       "    <tr style=\"text-align: right;\">\n",
       "      <th></th>\n",
       "      <th>y</th>\n",
       "      <th>time</th>\n",
       "      <th>x1</th>\n",
       "      <th>x2</th>\n",
       "      <th>x3</th>\n",
       "      <th>x4</th>\n",
       "      <th>x5</th>\n",
       "      <th>x6</th>\n",
       "      <th>x7</th>\n",
       "      <th>x8</th>\n",
       "      <th>...</th>\n",
       "      <th>x52</th>\n",
       "      <th>x53</th>\n",
       "      <th>x54</th>\n",
       "      <th>x55</th>\n",
       "      <th>x56</th>\n",
       "      <th>x57</th>\n",
       "      <th>x58</th>\n",
       "      <th>x59</th>\n",
       "      <th>x60</th>\n",
       "      <th>x61</th>\n",
       "    </tr>\n",
       "  </thead>\n",
       "  <tbody>\n",
       "    <tr>\n",
       "      <th>0</th>\n",
       "      <td>0.0</td>\n",
       "      <td>5/1/99 0:00</td>\n",
       "      <td>0.376665</td>\n",
       "      <td>-4.596435</td>\n",
       "      <td>-4.095756</td>\n",
       "      <td>13.497687</td>\n",
       "      <td>-0.118830</td>\n",
       "      <td>-20.669883</td>\n",
       "      <td>0.000732</td>\n",
       "      <td>-0.061114</td>\n",
       "      <td>...</td>\n",
       "      <td>10.091721</td>\n",
       "      <td>0.053279</td>\n",
       "      <td>-4.936434</td>\n",
       "      <td>-24.590146</td>\n",
       "      <td>18.515436</td>\n",
       "      <td>3.473400</td>\n",
       "      <td>0.033444</td>\n",
       "      <td>0.953219</td>\n",
       "      <td>0.006076</td>\n",
       "      <td>0</td>\n",
       "    </tr>\n",
       "    <tr>\n",
       "      <th>1</th>\n",
       "      <td>0.0</td>\n",
       "      <td>5/1/99 0:02</td>\n",
       "      <td>0.475720</td>\n",
       "      <td>-4.542502</td>\n",
       "      <td>-4.018359</td>\n",
       "      <td>16.230659</td>\n",
       "      <td>-0.128733</td>\n",
       "      <td>-18.758079</td>\n",
       "      <td>0.000732</td>\n",
       "      <td>-0.061114</td>\n",
       "      <td>...</td>\n",
       "      <td>10.095871</td>\n",
       "      <td>0.062801</td>\n",
       "      <td>-4.937179</td>\n",
       "      <td>-32.413266</td>\n",
       "      <td>22.760065</td>\n",
       "      <td>2.682933</td>\n",
       "      <td>0.033536</td>\n",
       "      <td>1.090502</td>\n",
       "      <td>0.006083</td>\n",
       "      <td>0</td>\n",
       "    </tr>\n",
       "    <tr>\n",
       "      <th>2</th>\n",
       "      <td>0.0</td>\n",
       "      <td>5/1/99 0:04</td>\n",
       "      <td>0.363848</td>\n",
       "      <td>-4.681394</td>\n",
       "      <td>-4.353147</td>\n",
       "      <td>14.127998</td>\n",
       "      <td>-0.138636</td>\n",
       "      <td>-17.836632</td>\n",
       "      <td>0.010803</td>\n",
       "      <td>-0.061114</td>\n",
       "      <td>...</td>\n",
       "      <td>10.100265</td>\n",
       "      <td>0.072322</td>\n",
       "      <td>-4.937924</td>\n",
       "      <td>-34.183774</td>\n",
       "      <td>27.004663</td>\n",
       "      <td>3.537487</td>\n",
       "      <td>0.033629</td>\n",
       "      <td>1.840540</td>\n",
       "      <td>0.006090</td>\n",
       "      <td>0</td>\n",
       "    </tr>\n",
       "    <tr>\n",
       "      <th>3</th>\n",
       "      <td>0.0</td>\n",
       "      <td>5/1/99 0:06</td>\n",
       "      <td>0.301590</td>\n",
       "      <td>-4.758934</td>\n",
       "      <td>-4.023612</td>\n",
       "      <td>13.161567</td>\n",
       "      <td>-0.148142</td>\n",
       "      <td>-18.517601</td>\n",
       "      <td>0.002075</td>\n",
       "      <td>-0.061114</td>\n",
       "      <td>...</td>\n",
       "      <td>10.104660</td>\n",
       "      <td>0.081600</td>\n",
       "      <td>-4.938669</td>\n",
       "      <td>-35.954281</td>\n",
       "      <td>21.672449</td>\n",
       "      <td>3.986095</td>\n",
       "      <td>0.033721</td>\n",
       "      <td>2.554880</td>\n",
       "      <td>0.006097</td>\n",
       "      <td>0</td>\n",
       "    </tr>\n",
       "    <tr>\n",
       "      <th>4</th>\n",
       "      <td>0.0</td>\n",
       "      <td>5/1/99 0:08</td>\n",
       "      <td>0.265578</td>\n",
       "      <td>-4.749928</td>\n",
       "      <td>-4.333150</td>\n",
       "      <td>15.267340</td>\n",
       "      <td>-0.155314</td>\n",
       "      <td>-17.505913</td>\n",
       "      <td>0.000732</td>\n",
       "      <td>-0.061114</td>\n",
       "      <td>...</td>\n",
       "      <td>10.109054</td>\n",
       "      <td>0.091121</td>\n",
       "      <td>-4.939414</td>\n",
       "      <td>-37.724789</td>\n",
       "      <td>21.907251</td>\n",
       "      <td>3.601573</td>\n",
       "      <td>0.033777</td>\n",
       "      <td>1.410494</td>\n",
       "      <td>0.006105</td>\n",
       "      <td>0</td>\n",
       "    </tr>\n",
       "  </tbody>\n",
       "</table>\n",
       "<p>5 rows × 63 columns</p>\n",
       "</div>"
      ],
      "text/plain": [
       "     y         time        x1        x2        x3         x4        x5  \\\n",
       "0  0.0  5/1/99 0:00  0.376665 -4.596435 -4.095756  13.497687 -0.118830   \n",
       "1  0.0  5/1/99 0:02  0.475720 -4.542502 -4.018359  16.230659 -0.128733   \n",
       "2  0.0  5/1/99 0:04  0.363848 -4.681394 -4.353147  14.127998 -0.138636   \n",
       "3  0.0  5/1/99 0:06  0.301590 -4.758934 -4.023612  13.161567 -0.148142   \n",
       "4  0.0  5/1/99 0:08  0.265578 -4.749928 -4.333150  15.267340 -0.155314   \n",
       "\n",
       "          x6        x7        x8  ...        x52       x53       x54  \\\n",
       "0 -20.669883  0.000732 -0.061114  ...  10.091721  0.053279 -4.936434   \n",
       "1 -18.758079  0.000732 -0.061114  ...  10.095871  0.062801 -4.937179   \n",
       "2 -17.836632  0.010803 -0.061114  ...  10.100265  0.072322 -4.937924   \n",
       "3 -18.517601  0.002075 -0.061114  ...  10.104660  0.081600 -4.938669   \n",
       "4 -17.505913  0.000732 -0.061114  ...  10.109054  0.091121 -4.939414   \n",
       "\n",
       "         x55        x56       x57       x58       x59       x60  x61  \n",
       "0 -24.590146  18.515436  3.473400  0.033444  0.953219  0.006076    0  \n",
       "1 -32.413266  22.760065  2.682933  0.033536  1.090502  0.006083    0  \n",
       "2 -34.183774  27.004663  3.537487  0.033629  1.840540  0.006090    0  \n",
       "3 -35.954281  21.672449  3.986095  0.033721  2.554880  0.006097    0  \n",
       "4 -37.724789  21.907251  3.601573  0.033777  1.410494  0.006105    0  \n",
       "\n",
       "[5 rows x 63 columns]"
      ]
     },
     "execution_count": 66,
     "metadata": {},
     "output_type": "execute_result"
    }
   ],
   "source": [
    "# shift the response column y by 2 rows to do a 4-min ahead prediction\n",
    "shifted_df = curve_shift(df, shift_by=-5)\n",
    "shifted_df.head()\n"
   ]
  },
  {
   "cell_type": "code",
   "execution_count": 67,
   "metadata": {},
   "outputs": [],
   "source": [
    "# drop remove columns\n",
    "shifted_df = shifted_df.drop(['time','x28','x61'], axis=1)"
   ]
  },
  {
   "cell_type": "code",
   "execution_count": 68,
   "metadata": {},
   "outputs": [],
   "source": [
    "# x, y\n",
    "input_x = shifted_df.drop('y', axis=1).values\n",
    "input_y = shifted_df['y'].values\n",
    "\n",
    "n_features = input_x.shape[1]"
   ]
  },
  {
   "cell_type": "markdown",
   "metadata": {},
   "source": [
    "# Transform to Series Data"
   ]
  },
  {
   "cell_type": "markdown",
   "metadata": {},
   "source": [
    "- LSTM 모델은 (samples, timesteps, feature)에 해당하는 3d 차원의 shape을 가지므로\n",
    "- 데이터를 시퀀스 형태로 변환한다. timesteps은 5(즉, 10분)만큼 잡았다."
   ]
  },
  {
   "cell_type": "code",
   "execution_count": 69,
   "metadata": {},
   "outputs": [],
   "source": [
    "def temporalize(X, y, timesteps):\n",
    "    output_X = []\n",
    "    output_y = []\n",
    "    for i in range(len(X) - timesteps - 1):\n",
    "        t = []\n",
    "        for j in range(1, timesteps + 1):\n",
    "            # Gather the past records upto the lookback period\n",
    "            t.append(X[[(i + j + 1)], :])\n",
    "        output_X.append(t)\n",
    "        output_y.append(y[i + timesteps + 1])\n",
    "    return np.squeeze(np.array(output_X)), np.array(output_y)\n",
    "timesteps = 5"
   ]
  },
  {
   "cell_type": "code",
   "execution_count": 70,
   "metadata": {},
   "outputs": [
    {
     "name": "stdout",
     "output_type": "stream",
     "text": [
      "(18268, 5, 59)\n"
     ]
    }
   ],
   "source": [
    "# Temporalize\n",
    "x, y = temporalize(input_x, input_y, timesteps)\n",
    "print(x.shape) # (18268, 5, 59)"
   ]
  },
  {
   "cell_type": "markdown",
   "metadata": {},
   "source": [
    "## Data Split"
   ]
  },
  {
   "cell_type": "code",
   "execution_count": 71,
   "metadata": {},
   "outputs": [
    {
     "name": "stdout",
     "output_type": "stream",
     "text": [
      "11691\n",
      "2923\n",
      "3654\n"
     ]
    }
   ],
   "source": [
    "# Split into train, valid, and test \n",
    "x_train, x_test, y_train, y_test = train_test_split(x, y, test_size=0.2)\n",
    "x_train, x_valid, y_train, y_valid = train_test_split(x_train, y_train, test_size=0.2)\n",
    "\n",
    "print(len(x_train))  # 11691\n",
    "print(len(x_valid))  # 2923\n",
    "print(len(x_test))   # 3654"
   ]
  },
  {
   "cell_type": "code",
   "execution_count": 72,
   "metadata": {},
   "outputs": [],
   "source": [
    "# Autoencoder 학습시에는 normal 만 학습할것이기에 데이터를 normal break 분리한다\n",
    "# For training the autoencoder, split 0 / 1\n",
    "x_train_y0 = x_train[y_train == 0]\n",
    "x_train_y1 = x_train[y_train == 1]\n",
    "\n",
    "x_valid_y0 = x_valid[y_valid == 0]\n",
    "x_valid_y1 = x_valid[y_valid == 1]"
   ]
  },
  {
   "cell_type": "markdown",
   "metadata": {},
   "source": [
    "## Standardize"
   ]
  },
  {
   "cell_type": "code",
   "execution_count": 73,
   "metadata": {},
   "outputs": [],
   "source": [
    "# 각기 다른 데이터의 특성 표준화 하기 위해 z-score 정규화 시킴\n",
    "# standartScaler() 적용을 위해는 2d 형태야 함으로 flatten 후 스케일 적용\n",
    "# 다시 3d 형태로 변환 "
   ]
  },
  {
   "cell_type": "code",
   "execution_count": 74,
   "metadata": {},
   "outputs": [],
   "source": [
    "def flatten(X):\n",
    "    flattened_X = np.empty((X.shape[0], X.shape[2]))  # sample x features array.\n",
    "    for i in range(X.shape[0]):\n",
    "        flattened_X[i] = X[i, (X.shape[1]-1), :]\n",
    "    return(flattened_X)\n",
    "\n",
    "def scale(X, scaler):\n",
    "    for i in range(X.shape[0]):\n",
    "        X[i, :, :] = scaler.transform(X[i, :, :])\n",
    "\n",
    "    return X\n",
    "\n",
    "\n",
    "scaler = StandardScaler().fit(flatten(x_train_y0))\n",
    "\n",
    "x_train_y0_scaled = scale(x_train_y0, scaler)\n",
    "x_valid_scaled = scale(x_valid, scaler)\n",
    "x_valid_y0_scaled = scale(x_valid_y0, scaler)\n",
    "x_test_scaled = scale(x_test, scaler)"
   ]
  },
  {
   "cell_type": "markdown",
   "metadata": {},
   "source": [
    "## Training LSTM Autoencoder\n",
    "- 대칭 구조의 staked Autoencoder 형태로 lstm autoencoder 구성\n",
    "- 정상 데이터로 만 구성된 데이터를 학습 "
   ]
  },
  {
   "cell_type": "code",
   "execution_count": 75,
   "metadata": {},
   "outputs": [],
   "source": [
    "import tensorflow as tf\n",
    "from tensorflow.keras.models import Sequential\n",
    "from tensorflow.keras.layers import Dense, Activation"
   ]
  },
  {
   "cell_type": "code",
   "execution_count": 76,
   "metadata": {},
   "outputs": [
    {
     "name": "stdout",
     "output_type": "stream",
     "text": [
      "Model: \"sequential_4\"\n",
      "_________________________________________________________________\n",
      "Layer (type)                 Output Shape              Param #   \n",
      "=================================================================\n",
      "lstm_16 (LSTM)               (None, 5, 32)             11776     \n",
      "_________________________________________________________________\n",
      "lstm_17 (LSTM)               (None, 16)                3136      \n",
      "_________________________________________________________________\n",
      "repeat_vector_4 (RepeatVecto (None, 5, 16)             0         \n",
      "_________________________________________________________________\n",
      "lstm_18 (LSTM)               (None, 5, 16)             2112      \n",
      "_________________________________________________________________\n",
      "lstm_19 (LSTM)               (None, 5, 32)             6272      \n",
      "_________________________________________________________________\n",
      "time_distributed_4 (TimeDist (None, 5, 59)             1947      \n",
      "=================================================================\n",
      "Total params: 25,243\n",
      "Trainable params: 25,243\n",
      "Non-trainable params: 0\n",
      "_________________________________________________________________\n"
     ]
    }
   ],
   "source": [
    "epochs = 200\n",
    "batch = 128\n",
    "lr = 0.001\n",
    "\n",
    "models =Sequential()\n",
    "# Encoder\n",
    "models.add(layers.LSTM(32, activation='relu', input_shape=(timesteps, n_features), return_sequences=True))\n",
    "models.add(layers.LSTM(16, activation='relu', return_sequences=False))\n",
    "models.add(layers.RepeatVector(timesteps))\n",
    "# Decoder\n",
    "models.add(layers.LSTM(16, activation='relu', return_sequences=True))\n",
    "models.add(layers.LSTM(32, activation='relu', return_sequences=True))\n",
    "models.add(layers.TimeDistributed(layers.Dense(n_features)))\n",
    "models.summary()"
   ]
  },
  {
   "cell_type": "code",
   "execution_count": 77,
   "metadata": {},
   "outputs": [],
   "source": [
    "models.compile(loss='mse', optimizer=optimizers.Adam(lr))"
   ]
  },
  {
   "cell_type": "code",
   "execution_count": 78,
   "metadata": {
    "scrolled": true
   },
   "outputs": [
    {
     "name": "stdout",
     "output_type": "stream",
     "text": [
      "Train on 11307 samples, validate on 2834 samples\n",
      "Epoch 1/200\n",
      "11307/11307 [==============================] - 3s 268us/sample - loss: 0.8846 - val_loss: 0.7049\n",
      "Epoch 2/200\n",
      "11307/11307 [==============================] - 1s 66us/sample - loss: 0.5788 - val_loss: 0.4534\n",
      "Epoch 3/200\n",
      "11307/11307 [==============================] - 1s 68us/sample - loss: 0.4188 - val_loss: 0.3627\n",
      "Epoch 4/200\n",
      "11307/11307 [==============================] - 1s 69us/sample - loss: 0.3526 - val_loss: 0.3130\n",
      "Epoch 5/200\n",
      "11307/11307 [==============================] - 1s 69us/sample - loss: 0.3124 - val_loss: 0.2835\n",
      "Epoch 6/200\n",
      "11307/11307 [==============================] - 1s 69us/sample - loss: 0.2874 - val_loss: 0.2645\n",
      "Epoch 7/200\n",
      "11307/11307 [==============================] - 1s 70us/sample - loss: 0.2674 - val_loss: 0.2476\n",
      "Epoch 8/200\n",
      "11307/11307 [==============================] - 1s 69us/sample - loss: 0.2512 - val_loss: 0.2363\n",
      "Epoch 9/200\n",
      "11307/11307 [==============================] - 1s 67us/sample - loss: 0.2400 - val_loss: 0.2264\n",
      "Epoch 10/200\n",
      "11307/11307 [==============================] - 1s 71us/sample - loss: 0.2295 - val_loss: 0.2253\n",
      "Epoch 11/200\n",
      "11307/11307 [==============================] - 1s 69us/sample - loss: 0.2265 - val_loss: 0.2185\n",
      "Epoch 12/200\n",
      "11307/11307 [==============================] - 1s 68us/sample - loss: 0.2175 - val_loss: 0.2072\n",
      "Epoch 13/200\n",
      "11307/11307 [==============================] - 1s 73us/sample - loss: 0.2117 - val_loss: 0.2044\n",
      "Epoch 14/200\n",
      "11307/11307 [==============================] - 1s 66us/sample - loss: 0.2053 - val_loss: 0.1971\n",
      "Epoch 15/200\n",
      "11307/11307 [==============================] - 1s 65us/sample - loss: 0.2010 - val_loss: 0.1946\n",
      "Epoch 16/200\n",
      "11307/11307 [==============================] - 1s 66us/sample - loss: 0.1973 - val_loss: 0.1904\n",
      "Epoch 17/200\n",
      "11307/11307 [==============================] - 1s 66us/sample - loss: 0.1942 - val_loss: 0.1876\n",
      "Epoch 18/200\n",
      "11307/11307 [==============================] - 1s 66us/sample - loss: 0.1914 - val_loss: 0.1850\n",
      "Epoch 19/200\n",
      "11307/11307 [==============================] - 1s 67us/sample - loss: 0.1878 - val_loss: 0.1820\n",
      "Epoch 20/200\n",
      "11307/11307 [==============================] - 1s 65us/sample - loss: 0.1849 - val_loss: 0.1831\n",
      "Epoch 21/200\n",
      "11307/11307 [==============================] - 1s 64us/sample - loss: 0.1832 - val_loss: 0.1781\n",
      "Epoch 22/200\n",
      "11307/11307 [==============================] - 1s 66us/sample - loss: 0.1798 - val_loss: 0.1751\n",
      "Epoch 23/200\n",
      "11307/11307 [==============================] - 1s 65us/sample - loss: 0.1782 - val_loss: 0.1739\n",
      "Epoch 24/200\n",
      "11307/11307 [==============================] - 1s 65us/sample - loss: 0.1778 - val_loss: 0.1755\n",
      "Epoch 25/200\n",
      "11307/11307 [==============================] - 1s 69us/sample - loss: 0.1790 - val_loss: 0.1712\n",
      "Epoch 26/200\n",
      "11307/11307 [==============================] - 1s 67us/sample - loss: 0.1743 - val_loss: 0.1711\n",
      "Epoch 27/200\n",
      "11307/11307 [==============================] - 1s 68us/sample - loss: 0.1718 - val_loss: 0.1693\n",
      "Epoch 28/200\n",
      "11307/11307 [==============================] - 1s 68us/sample - loss: 0.1697 - val_loss: 0.1674\n",
      "Epoch 29/200\n",
      "11307/11307 [==============================] - 1s 68us/sample - loss: 0.1680 - val_loss: 0.1652\n",
      "Epoch 30/200\n",
      "11307/11307 [==============================] - 1s 68us/sample - loss: 0.1663 - val_loss: 0.1647\n",
      "Epoch 31/200\n",
      "11307/11307 [==============================] - 1s 67us/sample - loss: 0.1675 - val_loss: 0.1646\n",
      "Epoch 32/200\n",
      "11307/11307 [==============================] - 1s 67us/sample - loss: 0.1664 - val_loss: 0.1630\n",
      "Epoch 33/200\n",
      "11307/11307 [==============================] - 1s 68us/sample - loss: 0.1643 - val_loss: 0.1628\n",
      "Epoch 34/200\n",
      "11307/11307 [==============================] - 1s 68us/sample - loss: 0.1630 - val_loss: 0.1627\n",
      "Epoch 35/200\n",
      "11307/11307 [==============================] - 1s 68us/sample - loss: 0.1658 - val_loss: 0.1613\n",
      "Epoch 36/200\n",
      "11307/11307 [==============================] - 1s 68us/sample - loss: 0.1625 - val_loss: 0.1586\n",
      "Epoch 37/200\n",
      "11307/11307 [==============================] - 1s 68us/sample - loss: 0.1600 - val_loss: 0.1582\n",
      "Epoch 38/200\n",
      "11307/11307 [==============================] - 1s 69us/sample - loss: 0.1588 - val_loss: 0.1557\n",
      "Epoch 39/200\n",
      "11307/11307 [==============================] - 1s 68us/sample - loss: 0.1585 - val_loss: 0.1565\n",
      "Epoch 40/200\n",
      "11307/11307 [==============================] - 1s 67us/sample - loss: 0.1579 - val_loss: 0.1562\n",
      "Epoch 41/200\n",
      "11307/11307 [==============================] - 1s 67us/sample - loss: 0.1566 - val_loss: 0.1548\n",
      "Epoch 42/200\n",
      "11307/11307 [==============================] - 1s 67us/sample - loss: 0.1550 - val_loss: 0.1538\n",
      "Epoch 43/200\n",
      "11307/11307 [==============================] - 1s 67us/sample - loss: 0.1560 - val_loss: 0.1552\n",
      "Epoch 44/200\n",
      "11307/11307 [==============================] - 1s 69us/sample - loss: 0.1549 - val_loss: 0.1531\n",
      "Epoch 45/200\n",
      "11307/11307 [==============================] - 1s 68us/sample - loss: 0.1536 - val_loss: 0.1529\n",
      "Epoch 46/200\n",
      "11307/11307 [==============================] - 1s 65us/sample - loss: 0.1557 - val_loss: 0.1558\n",
      "Epoch 47/200\n",
      "11307/11307 [==============================] - 1s 69us/sample - loss: 0.1577 - val_loss: 0.1550\n",
      "Epoch 48/200\n",
      "11307/11307 [==============================] - 1s 67us/sample - loss: 0.1562 - val_loss: 0.1516\n",
      "Epoch 49/200\n",
      "11307/11307 [==============================] - 1s 66us/sample - loss: 0.1509 - val_loss: 0.1499\n",
      "Epoch 50/200\n",
      "11307/11307 [==============================] - 1s 65us/sample - loss: 0.1505 - val_loss: 0.1505\n",
      "Epoch 51/200\n",
      "11307/11307 [==============================] - 1s 67us/sample - loss: 0.1498 - val_loss: 0.1484\n",
      "Epoch 52/200\n",
      "11307/11307 [==============================] - 1s 68us/sample - loss: 0.1512 - val_loss: 0.1498\n",
      "Epoch 53/200\n",
      "11307/11307 [==============================] - 1s 69us/sample - loss: 0.1494 - val_loss: 0.1483\n",
      "Epoch 54/200\n",
      "11307/11307 [==============================] - 1s 69us/sample - loss: 0.1478 - val_loss: 0.1465\n",
      "Epoch 55/200\n",
      "11307/11307 [==============================] - 1s 67us/sample - loss: 0.1479 - val_loss: 0.1467\n",
      "Epoch 56/200\n",
      "11307/11307 [==============================] - 1s 68us/sample - loss: 0.1464 - val_loss: 0.1478\n",
      "Epoch 57/200\n",
      "11307/11307 [==============================] - 1s 66us/sample - loss: 0.1472 - val_loss: 0.1476\n",
      "Epoch 58/200\n",
      "11307/11307 [==============================] - 1s 70us/sample - loss: 0.1464 - val_loss: 0.1461\n",
      "Epoch 59/200\n",
      "11307/11307 [==============================] - 1s 70us/sample - loss: 0.1463 - val_loss: 0.1452\n",
      "Epoch 60/200\n",
      "11307/11307 [==============================] - 1s 66us/sample - loss: 0.1462 - val_loss: 0.1454\n",
      "Epoch 61/200\n",
      "11307/11307 [==============================] - 1s 69us/sample - loss: 0.1455 - val_loss: 0.1439\n",
      "Epoch 62/200\n",
      "11307/11307 [==============================] - 1s 65us/sample - loss: 0.1453 - val_loss: 0.1435\n",
      "Epoch 63/200\n",
      "11307/11307 [==============================] - 1s 66us/sample - loss: 0.1437 - val_loss: 0.1431\n",
      "Epoch 64/200\n",
      "11307/11307 [==============================] - 1s 73us/sample - loss: 0.1433 - val_loss: 0.1442\n",
      "Epoch 65/200\n",
      "11307/11307 [==============================] - 1s 67us/sample - loss: 0.1450 - val_loss: 0.1428\n",
      "Epoch 66/200\n",
      "11307/11307 [==============================] - 1s 69us/sample - loss: 0.1450 - val_loss: 0.1440\n",
      "Epoch 67/200\n",
      "11307/11307 [==============================] - 1s 66us/sample - loss: 0.1441 - val_loss: 0.1439\n",
      "Epoch 68/200\n",
      "11307/11307 [==============================] - 1s 67us/sample - loss: 0.1439 - val_loss: 0.1433\n",
      "Epoch 69/200\n",
      "11307/11307 [==============================] - 1s 66us/sample - loss: 0.1424 - val_loss: 0.1431\n",
      "Epoch 70/200\n",
      "11307/11307 [==============================] - 1s 64us/sample - loss: 0.1416 - val_loss: 0.1424\n",
      "Epoch 71/200\n",
      "11307/11307 [==============================] - 1s 67us/sample - loss: 0.1412 - val_loss: 0.1409\n",
      "Epoch 72/200\n",
      "11307/11307 [==============================] - 1s 64us/sample - loss: 0.1409 - val_loss: 0.1403\n",
      "Epoch 73/200\n",
      "11307/11307 [==============================] - 1s 69us/sample - loss: 0.1403 - val_loss: 0.1408\n",
      "Epoch 74/200\n",
      "11307/11307 [==============================] - 1s 69us/sample - loss: 0.1405 - val_loss: 0.1412\n",
      "Epoch 75/200\n",
      "11307/11307 [==============================] - 1s 69us/sample - loss: 0.1401 - val_loss: 0.1412\n"
     ]
    },
    {
     "name": "stdout",
     "output_type": "stream",
     "text": [
      "Epoch 76/200\n",
      "11307/11307 [==============================] - 1s 68us/sample - loss: 0.1416 - val_loss: 0.1409\n",
      "Epoch 77/200\n",
      "11307/11307 [==============================] - 1s 70us/sample - loss: 0.1399 - val_loss: 0.1405\n",
      "Epoch 78/200\n",
      "11307/11307 [==============================] - 1s 76us/sample - loss: 0.1403 - val_loss: 0.1401\n",
      "Epoch 79/200\n",
      "11307/11307 [==============================] - 1s 67us/sample - loss: 0.1385 - val_loss: 0.1390\n",
      "Epoch 80/200\n",
      "11307/11307 [==============================] - 1s 67us/sample - loss: 0.1397 - val_loss: 0.1399\n",
      "Epoch 81/200\n",
      "11307/11307 [==============================] - 1s 66us/sample - loss: 0.1417 - val_loss: 0.1401\n",
      "Epoch 82/200\n",
      "11307/11307 [==============================] - 1s 65us/sample - loss: 0.1389 - val_loss: 0.1389\n",
      "Epoch 83/200\n",
      "11307/11307 [==============================] - 1s 64us/sample - loss: 0.1381 - val_loss: 0.1374\n",
      "Epoch 84/200\n",
      "11307/11307 [==============================] - 1s 65us/sample - loss: 0.1386 - val_loss: 0.1396\n",
      "Epoch 85/200\n",
      "11307/11307 [==============================] - 1s 69us/sample - loss: 0.1392 - val_loss: 0.1387\n",
      "Epoch 86/200\n",
      "11307/11307 [==============================] - 1s 64us/sample - loss: 0.1379 - val_loss: 0.1379\n",
      "Epoch 87/200\n",
      "11307/11307 [==============================] - 1s 67us/sample - loss: 0.1367 - val_loss: 0.1390\n",
      "Epoch 88/200\n",
      "11307/11307 [==============================] - 1s 63us/sample - loss: 0.1374 - val_loss: 0.1366\n",
      "Epoch 89/200\n",
      "11307/11307 [==============================] - 1s 68us/sample - loss: 0.1362 - val_loss: 0.1371\n",
      "Epoch 90/200\n",
      "11307/11307 [==============================] - 1s 64us/sample - loss: 0.1373 - val_loss: 0.1359\n",
      "Epoch 91/200\n",
      "11307/11307 [==============================] - 1s 64us/sample - loss: 0.1359 - val_loss: 0.1381\n",
      "Epoch 92/200\n",
      "11307/11307 [==============================] - 1s 64us/sample - loss: 0.1358 - val_loss: 0.1366\n",
      "Epoch 93/200\n",
      "11307/11307 [==============================] - 1s 66us/sample - loss: 0.1373 - val_loss: 0.1363\n",
      "Epoch 94/200\n",
      "11307/11307 [==============================] - 1s 64us/sample - loss: 0.1373 - val_loss: 0.1359\n",
      "Epoch 95/200\n",
      "11307/11307 [==============================] - 1s 63us/sample - loss: 0.1401 - val_loss: 0.1382\n",
      "Epoch 96/200\n",
      "11307/11307 [==============================] - 1s 63us/sample - loss: 0.1381 - val_loss: 0.1369\n",
      "Epoch 97/200\n",
      "11307/11307 [==============================] - 1s 64us/sample - loss: 0.1344 - val_loss: 0.1343\n",
      "Epoch 98/200\n",
      "11307/11307 [==============================] - 1s 68us/sample - loss: 0.1337 - val_loss: 0.1357\n",
      "Epoch 99/200\n",
      "11307/11307 [==============================] - 1s 70us/sample - loss: 0.1337 - val_loss: 0.1344\n",
      "Epoch 100/200\n",
      "11307/11307 [==============================] - 1s 67us/sample - loss: 0.1332 - val_loss: 0.1346\n",
      "Epoch 101/200\n",
      "11307/11307 [==============================] - 1s 65us/sample - loss: 0.1335 - val_loss: 0.1361\n",
      "Epoch 102/200\n",
      "11307/11307 [==============================] - 1s 66us/sample - loss: 0.1338 - val_loss: 0.1352\n",
      "Epoch 103/200\n",
      "11307/11307 [==============================] - 1s 65us/sample - loss: 0.1333 - val_loss: 0.1350\n",
      "Epoch 104/200\n",
      "11307/11307 [==============================] - 1s 65us/sample - loss: 0.1345 - val_loss: 0.1358\n",
      "Epoch 105/200\n",
      "11307/11307 [==============================] - 1s 65us/sample - loss: 0.1368 - val_loss: 0.1355\n",
      "Epoch 106/200\n",
      "11307/11307 [==============================] - 1s 64us/sample - loss: 0.1367 - val_loss: 0.1357\n",
      "Epoch 107/200\n",
      "11307/11307 [==============================] - 1s 64us/sample - loss: 0.1335 - val_loss: 0.1340\n",
      "Epoch 108/200\n",
      "11307/11307 [==============================] - 1s 64us/sample - loss: 0.1321 - val_loss: 0.1331\n",
      "Epoch 109/200\n",
      "11307/11307 [==============================] - 1s 65us/sample - loss: 0.1328 - val_loss: 0.1341\n",
      "Epoch 110/200\n",
      "11307/11307 [==============================] - 1s 64us/sample - loss: 0.1331 - val_loss: 0.1329\n",
      "Epoch 111/200\n",
      "11307/11307 [==============================] - 1s 67us/sample - loss: 0.1327 - val_loss: 0.1344\n",
      "Epoch 112/200\n",
      "11307/11307 [==============================] - 1s 71us/sample - loss: 0.1371 - val_loss: 0.1337\n",
      "Epoch 113/200\n",
      "11307/11307 [==============================] - 1s 71us/sample - loss: 0.1327 - val_loss: 0.1322\n",
      "Epoch 114/200\n",
      "11307/11307 [==============================] - 1s 72us/sample - loss: 0.1314 - val_loss: 0.1330\n",
      "Epoch 115/200\n",
      "11307/11307 [==============================] - 1s 71us/sample - loss: 0.1312 - val_loss: 0.1323\n",
      "Epoch 116/200\n",
      "11307/11307 [==============================] - 1s 70us/sample - loss: 0.1310 - val_loss: 0.1322\n",
      "Epoch 117/200\n",
      "11307/11307 [==============================] - 1s 69us/sample - loss: 0.1315 - val_loss: 0.1321\n",
      "Epoch 118/200\n",
      "11307/11307 [==============================] - 1s 69us/sample - loss: 0.1322 - val_loss: 0.1314\n",
      "Epoch 119/200\n",
      "11307/11307 [==============================] - 1s 70us/sample - loss: 0.1313 - val_loss: 0.1321\n",
      "Epoch 120/200\n",
      "11307/11307 [==============================] - 1s 70us/sample - loss: 0.1304 - val_loss: 0.1315\n",
      "Epoch 121/200\n",
      "11307/11307 [==============================] - 1s 71us/sample - loss: 0.1305 - val_loss: 0.1329\n",
      "Epoch 122/200\n",
      "11307/11307 [==============================] - 1s 70us/sample - loss: 0.1313 - val_loss: 0.1313\n",
      "Epoch 123/200\n",
      "11307/11307 [==============================] - 1s 69us/sample - loss: 0.1328 - val_loss: 0.1367\n",
      "Epoch 124/200\n",
      "11307/11307 [==============================] - 1s 70us/sample - loss: 0.1341 - val_loss: 0.1325\n",
      "Epoch 125/200\n",
      "11307/11307 [==============================] - 1s 69us/sample - loss: 0.1314 - val_loss: 0.1319\n",
      "Epoch 126/200\n",
      "11307/11307 [==============================] - 1s 69us/sample - loss: 0.1317 - val_loss: 0.1320\n",
      "Epoch 127/200\n",
      "11307/11307 [==============================] - 1s 69us/sample - loss: 0.1328 - val_loss: 0.1317\n",
      "Epoch 128/200\n",
      "11307/11307 [==============================] - 1s 69us/sample - loss: 0.1303 - val_loss: 0.1310\n",
      "Epoch 129/200\n",
      "11307/11307 [==============================] - 1s 69us/sample - loss: 0.1295 - val_loss: 0.1299\n",
      "Epoch 130/200\n",
      "11307/11307 [==============================] - 1s 73us/sample - loss: 0.1293 - val_loss: 0.1306\n",
      "Epoch 131/200\n",
      "11307/11307 [==============================] - 1s 71us/sample - loss: 0.1293 - val_loss: 0.1296\n",
      "Epoch 132/200\n",
      "11307/11307 [==============================] - 1s 73us/sample - loss: 0.1283 - val_loss: 0.1297\n",
      "Epoch 133/200\n",
      "11307/11307 [==============================] - 1s 73us/sample - loss: 0.1289 - val_loss: 0.1312\n",
      "Epoch 134/200\n",
      "11307/11307 [==============================] - 1s 71us/sample - loss: 0.1290 - val_loss: 0.1315\n",
      "Epoch 135/200\n",
      "11307/11307 [==============================] - 1s 72us/sample - loss: 0.1287 - val_loss: 0.1309\n",
      "Epoch 136/200\n",
      "11307/11307 [==============================] - 1s 68us/sample - loss: 0.1303 - val_loss: 0.1305\n",
      "Epoch 137/200\n",
      "11307/11307 [==============================] - 1s 73us/sample - loss: 0.1283 - val_loss: 0.1327\n",
      "Epoch 138/200\n",
      "11307/11307 [==============================] - 1s 68us/sample - loss: 0.1293 - val_loss: 0.1291\n",
      "Epoch 139/200\n",
      "11307/11307 [==============================] - 1s 67us/sample - loss: 0.1277 - val_loss: 0.1287\n",
      "Epoch 140/200\n",
      "11307/11307 [==============================] - 1s 77us/sample - loss: 0.1280 - val_loss: 0.1291\n",
      "Epoch 141/200\n",
      "11307/11307 [==============================] - 1s 75us/sample - loss: 0.1292 - val_loss: 0.1291\n",
      "Epoch 142/200\n",
      "11307/11307 [==============================] - 1s 73us/sample - loss: 0.1281 - val_loss: 0.1292\n",
      "Epoch 143/200\n",
      "11307/11307 [==============================] - 1s 71us/sample - loss: 0.1286 - val_loss: 0.1288\n",
      "Epoch 144/200\n",
      "11307/11307 [==============================] - 1s 69us/sample - loss: 0.1284 - val_loss: 0.1307\n",
      "Epoch 145/200\n",
      "11307/11307 [==============================] - 1s 72us/sample - loss: 0.1321 - val_loss: 0.1304\n",
      "Epoch 146/200\n",
      "11307/11307 [==============================] - 1s 71us/sample - loss: 0.1314 - val_loss: 0.1316\n",
      "Epoch 147/200\n",
      "11307/11307 [==============================] - 1s 73us/sample - loss: 0.1330 - val_loss: 0.1309\n",
      "Epoch 148/200\n",
      "11307/11307 [==============================] - 1s 71us/sample - loss: 0.1294 - val_loss: 0.1290\n",
      "Epoch 149/200\n",
      "11307/11307 [==============================] - 1s 74us/sample - loss: 0.1273 - val_loss: 0.1278\n",
      "Epoch 150/200\n"
     ]
    },
    {
     "name": "stdout",
     "output_type": "stream",
     "text": [
      "11307/11307 [==============================] - 1s 80us/sample - loss: 0.1265 - val_loss: 0.1281\n",
      "Epoch 151/200\n",
      "11307/11307 [==============================] - 1s 75us/sample - loss: 0.1262 - val_loss: 0.1272\n",
      "Epoch 152/200\n",
      "11307/11307 [==============================] - 1s 74us/sample - loss: 0.1268 - val_loss: 0.1277\n",
      "Epoch 153/200\n",
      "11307/11307 [==============================] - 1s 74us/sample - loss: 0.1270 - val_loss: 0.1286\n",
      "Epoch 154/200\n",
      "11307/11307 [==============================] - 1s 72us/sample - loss: 0.1266 - val_loss: 0.1282\n",
      "Epoch 155/200\n",
      "11307/11307 [==============================] - 1s 69us/sample - loss: 0.1265 - val_loss: 0.1277\n",
      "Epoch 156/200\n",
      "11307/11307 [==============================] - 1s 70us/sample - loss: 0.1261 - val_loss: 0.1271\n",
      "Epoch 157/200\n",
      "11307/11307 [==============================] - 1s 69us/sample - loss: 0.1271 - val_loss: 0.1288\n",
      "Epoch 158/200\n",
      "11307/11307 [==============================] - 1s 73us/sample - loss: 0.1282 - val_loss: 0.1288\n",
      "Epoch 159/200\n",
      "11307/11307 [==============================] - 1s 77us/sample - loss: 0.1303 - val_loss: 0.1283\n",
      "Epoch 160/200\n",
      "11307/11307 [==============================] - 1s 70us/sample - loss: 0.1273 - val_loss: 0.1296\n",
      "Epoch 161/200\n",
      "11307/11307 [==============================] - 1s 70us/sample - loss: 0.1265 - val_loss: 0.1263\n",
      "Epoch 162/200\n",
      "11307/11307 [==============================] - 1s 76us/sample - loss: 0.1270 - val_loss: 0.1267\n",
      "Epoch 163/200\n",
      "11307/11307 [==============================] - 1s 71us/sample - loss: 0.1265 - val_loss: 0.1266\n",
      "Epoch 164/200\n",
      "11307/11307 [==============================] - 1s 79us/sample - loss: 0.1260 - val_loss: 0.1257\n",
      "Epoch 165/200\n",
      "11307/11307 [==============================] - 1s 78us/sample - loss: 0.1253 - val_loss: 0.1255\n",
      "Epoch 166/200\n",
      "11307/11307 [==============================] - 1s 81us/sample - loss: 0.1252 - val_loss: 0.1264\n",
      "Epoch 167/200\n",
      "11307/11307 [==============================] - 1s 82us/sample - loss: 0.1265 - val_loss: 0.1279\n",
      "Epoch 168/200\n",
      "11307/11307 [==============================] - 1s 77us/sample - loss: 0.1275 - val_loss: 0.1271\n",
      "Epoch 169/200\n",
      "11307/11307 [==============================] - 1s 75us/sample - loss: 0.1268 - val_loss: 0.1267\n",
      "Epoch 170/200\n",
      "11307/11307 [==============================] - 1s 77us/sample - loss: 0.1262 - val_loss: 0.1257\n",
      "Epoch 171/200\n",
      "11307/11307 [==============================] - 1s 74us/sample - loss: 0.1291 - val_loss: 0.1276\n",
      "Epoch 172/200\n",
      "11307/11307 [==============================] - 1s 74us/sample - loss: 0.1276 - val_loss: 0.1270\n",
      "Epoch 173/200\n",
      "11307/11307 [==============================] - 1s 73us/sample - loss: 0.1269 - val_loss: 0.1269\n",
      "Epoch 174/200\n",
      "11307/11307 [==============================] - 1s 75us/sample - loss: 0.1261 - val_loss: 0.1257\n",
      "Epoch 175/200\n",
      "11307/11307 [==============================] - 1s 76us/sample - loss: 0.1263 - val_loss: 0.1262\n",
      "Epoch 176/200\n",
      "11307/11307 [==============================] - 1s 70us/sample - loss: 0.1263 - val_loss: 0.1257\n",
      "Epoch 177/200\n",
      "11307/11307 [==============================] - 1s 68us/sample - loss: 0.1262 - val_loss: 0.1260\n",
      "Epoch 178/200\n",
      "11307/11307 [==============================] - 1s 69us/sample - loss: 0.1259 - val_loss: 0.1260\n",
      "Epoch 179/200\n",
      "11307/11307 [==============================] - 1s 73us/sample - loss: 0.1244 - val_loss: 0.1250\n",
      "Epoch 180/200\n",
      "11307/11307 [==============================] - 1s 71us/sample - loss: 0.1250 - val_loss: 0.1264\n",
      "Epoch 181/200\n",
      "11307/11307 [==============================] - 1s 73us/sample - loss: 0.1245 - val_loss: 0.1254\n",
      "Epoch 182/200\n",
      "11307/11307 [==============================] - 1s 77us/sample - loss: 0.1240 - val_loss: 0.1246\n",
      "Epoch 183/200\n",
      "11307/11307 [==============================] - 1s 71us/sample - loss: 0.1241 - val_loss: 0.1249\n",
      "Epoch 184/200\n",
      "11307/11307 [==============================] - 1s 74us/sample - loss: 0.1248 - val_loss: 0.1252\n",
      "Epoch 185/200\n",
      "11307/11307 [==============================] - 1s 77us/sample - loss: 0.1241 - val_loss: 0.1262\n",
      "Epoch 186/200\n",
      "11307/11307 [==============================] - 1s 70us/sample - loss: 0.1239 - val_loss: 0.1257\n",
      "Epoch 187/200\n",
      "11307/11307 [==============================] - 1s 71us/sample - loss: 0.1236 - val_loss: 0.1253\n",
      "Epoch 188/200\n",
      "11307/11307 [==============================] - 1s 73us/sample - loss: 0.1237 - val_loss: 0.1240\n",
      "Epoch 189/200\n",
      "11307/11307 [==============================] - 1s 77us/sample - loss: 0.1229 - val_loss: 0.1262\n",
      "Epoch 190/200\n",
      "11307/11307 [==============================] - 1s 72us/sample - loss: 0.1237 - val_loss: 0.1251\n",
      "Epoch 191/200\n",
      "11307/11307 [==============================] - 1s 71us/sample - loss: 0.1246 - val_loss: 0.1261\n",
      "Epoch 192/200\n",
      "11307/11307 [==============================] - 1s 78us/sample - loss: 0.1267 - val_loss: 0.1256\n",
      "Epoch 193/200\n",
      "11307/11307 [==============================] - 1s 70us/sample - loss: 0.1250 - val_loss: 0.1247\n",
      "Epoch 194/200\n",
      "11307/11307 [==============================] - 1s 73us/sample - loss: 0.1260 - val_loss: 0.1290\n",
      "Epoch 195/200\n",
      "11307/11307 [==============================] - 1s 70us/sample - loss: 0.1278 - val_loss: 0.1252\n",
      "Epoch 196/200\n",
      "11307/11307 [==============================] - 1s 70us/sample - loss: 0.1281 - val_loss: 0.1330\n",
      "Epoch 197/200\n",
      "11307/11307 [==============================] - 1s 70us/sample - loss: 0.1280 - val_loss: 0.1259\n",
      "Epoch 198/200\n",
      "11307/11307 [==============================] - 1s 71us/sample - loss: 0.1241 - val_loss: 0.1253\n",
      "Epoch 199/200\n",
      "11307/11307 [==============================] - 1s 71us/sample - loss: 0.1240 - val_loss: 0.1251\n",
      "Epoch 200/200\n",
      "11307/11307 [==============================] - 1s 70us/sample - loss: 0.1241 - val_loss: 0.1245\n"
     ]
    }
   ],
   "source": [
    "history = models.fit(x_train_y0_scaled, x_train_y0_scaled,\n",
    "                     epochs=epochs, batch_size=batch,\n",
    "                     validation_data=(x_valid_y0_scaled, x_valid_y0_scaled))"
   ]
  },
  {
   "cell_type": "code",
   "execution_count": 79,
   "metadata": {},
   "outputs": [
    {
     "data": {
      "image/png": "[encoded data removed]",
      "text/plain": [
       "<Figure size 432x288 with 1 Axes>"
      ]
     },
     "metadata": {
      "needs_background": "light"
     },
     "output_type": "display_data"
    }
   ],
   "source": [
    "plt.plot(history.history['loss'], label='train loss')\n",
    "plt.plot(history.history['val_loss'], label='valid loss')\n",
    "plt.legend()\n",
    "plt.xlabel('Epoch'); plt.ylabel('loss')\n",
    "plt.show()"
   ]
  },
  {
   "cell_type": "markdown",
   "metadata": {},
   "source": [
    "## Threshold by Precision Recall Curve\n",
    "- 주의점 : 디코딩 된 재구성 결과가 아닌 Reconstruction error 와 실제 라벨 값을 비교 "
   ]
  },
  {
   "cell_type": "code",
   "execution_count": 80,
   "metadata": {},
   "outputs": [
    {
     "data": {
      "image/png": "[encoded data removed]",
      "text/plain": [
       "<Figure size 576x360 with 1 Axes>"
      ]
     },
     "metadata": {
      "needs_background": "light"
     },
     "output_type": "display_data"
    }
   ],
   "source": [
    "valid_x_predictions = models.predict(x_valid_scaled)\n",
    "mse = np.mean(np.power(flatten(x_valid_scaled) - flatten(valid_x_predictions), 2), axis=1)\n",
    "\n",
    "error_df = pd.DataFrame({'Reconstruction_error':mse, \n",
    "                         'True_class':list(y_valid)})\n",
    "precision_rt, recall_rt, threshold_rt = metrics.precision_recall_curve(error_df['True_class'], error_df['Reconstruction_error'])\n",
    "\n",
    "plt.figure(figsize=(8,5))\n",
    "plt.plot(threshold_rt, precision_rt[1:], label='Precision')\n",
    "plt.plot(threshold_rt, recall_rt[1:], label='Recall')\n",
    "plt.xlabel('Threshold'); plt.ylabel('Precision/Recall')\n",
    "plt.legend()\n",
    "plt.show()\n",
    "# -"
   ]
  },
  {
   "cell_type": "code",
   "execution_count": 81,
   "metadata": {},
   "outputs": [
    {
     "name": "stdout",
     "output_type": "stream",
     "text": [
      "precision:  0.06741573033707865 , recall:  0.06741573033707865\n"
     ]
    }
   ],
   "source": [
    "# best position of threshold\n",
    "index_cnt = [cnt for cnt, (p, r) in enumerate(zip(precision_rt, recall_rt)) if p==r][0]\n",
    "print('precision: ',precision_rt[index_cnt],', recall: ',recall_rt[index_cnt])"
   ]
  },
  {
   "cell_type": "code",
   "execution_count": 82,
   "metadata": {},
   "outputs": [
    {
     "name": "stdout",
     "output_type": "stream",
     "text": [
      "threshold:  0.36430022134547946\n"
     ]
    }
   ],
   "source": [
    "# fixed Threshold\n",
    "threshold_fixed = threshold_rt[index_cnt]\n",
    "print('threshold: ',threshold_fixed)"
   ]
  },
  {
   "cell_type": "markdown",
   "metadata": {},
   "source": [
    "# Predict Test"
   ]
  },
  {
   "cell_type": "code",
   "execution_count": 83,
   "metadata": {},
   "outputs": [
    {
     "data": {
      "image/png": "[encoded data removed]",
      "text/plain": [
       "<Figure size 432x288 with 1 Axes>"
      ]
     },
     "metadata": {
      "needs_background": "light"
     },
     "output_type": "display_data"
    }
   ],
   "source": [
    "test_x_predictions = models.predict(x_test_scaled)\n",
    "mse = np.mean(np.power(flatten(x_test_scaled) - flatten(test_x_predictions), 2), axis=1)\n",
    "\n",
    "error_df = pd.DataFrame({'Reconstruction_error': mse,\n",
    "                         'True_class': y_test.tolist()})\n",
    "\n",
    "groups = error_df.groupby('True_class')\n",
    "fig, ax = plt.subplots()\n",
    "\n",
    "for name, group in groups:\n",
    "    ax.plot(group.index, group.Reconstruction_error, marker='o', ms=3.5, linestyle='',\n",
    "            label= \"Break\" if name == 1 else \"Normal\")\n",
    "ax.hlines(threshold_fixed, ax.get_xlim()[0], ax.get_xlim()[1], colors=\"r\", zorder=100, label='Threshold')\n",
    "ax.legend()\n",
    "plt.title(\"Reconstruction error for different classes\")\n",
    "plt.ylabel(\"Reconstruction error\")\n",
    "plt.xlabel(\"Data point index\")\n",
    "plt.show();"
   ]
  },
  {
   "cell_type": "markdown",
   "metadata": {},
   "source": [
    "# Evaluation"
   ]
  },
  {
   "cell_type": "code",
   "execution_count": 84,
   "metadata": {},
   "outputs": [
    {
     "data": {
      "image/png": "[encoded data removed]",
      "text/plain": [
       "<Figure size 504x504 with 2 Axes>"
      ]
     },
     "metadata": {
      "needs_background": "light"
     },
     "output_type": "display_data"
    }
   ],
   "source": [
    "# classification by threshold\n",
    "pred_y = [1 if e > threshold_fixed else 0 for e in error_df['Reconstruction_error'].values]\n",
    "\n",
    "conf_matrix = metrics.confusion_matrix(error_df['True_class'], pred_y)\n",
    "plt.figure(figsize=(7, 7))\n",
    "sns.heatmap(conf_matrix, xticklabels=LABELS, yticklabels=LABELS, annot=True, fmt='d')\n",
    "plt.title('Confusion Matrix')\n",
    "plt.xlabel('Predicted Class'); plt.ylabel('True Class')\n",
    "plt.show()"
   ]
  },
  {
   "cell_type": "code",
   "execution_count": 85,
   "metadata": {},
   "outputs": [
    {
     "data": {
      "image/png": "[encoded data removed]",
      "text/plain": [
       "<Figure size 432x288 with 1 Axes>"
      ]
     },
     "metadata": {
      "needs_background": "light"
     },
     "output_type": "display_data"
    }
   ],
   "source": [
    "# ROC Curve and AUC\n",
    "\n",
    "false_pos_rate, true_pos_rate, thresholds = metrics.roc_curve(error_df['True_class'], error_df['Reconstruction_error'])\n",
    "roc_auc = metrics.auc(false_pos_rate, true_pos_rate,)\n",
    "\n",
    "plt.plot(false_pos_rate, true_pos_rate, linewidth=5, label='AUC = %0.3f'% roc_auc)\n",
    "plt.plot([0,1],[0,1], linewidth=5)\n",
    "\n",
    "plt.xlim([-0.01, 1])\n",
    "plt.ylim([0, 1.01])\n",
    "plt.legend(loc='lower right')\n",
    "plt.title('Receiver operating characteristic curve (ROC)')\n",
    "plt.ylabel('True Positive Rate'); plt.xlabel('False Positive Rate')\n",
    "plt.show()"
   ]
  },
  {
   "cell_type": "code",
   "execution_count": 86,
   "metadata": {},
   "outputs": [
    {
     "data": {
      "text/plain": [
       "[0, 0, 0, 0, 0, 0, 0, 1, 0, 0, 0, 0]"
      ]
     },
     "execution_count": 86,
     "metadata": {},
     "output_type": "execute_result"
    }
   ],
   "source": [
    "pred_y[-12:] "
   ]
  },
  {
   "cell_type": "markdown",
   "metadata": {},
   "source": [
    "# Anomaly Detection in Keras "
   ]
  },
  {
   "cell_type": "markdown",
   "metadata": {},
   "source": [
    "- Anomaly Detection is unsupervised training tech \n",
    "- Analyzes the degree to which incoming data is different than data that you used to train the neural network\n",
    "- Cybersecurity used anomaly detection to ensure network security "
   ]
  },
  {
   "cell_type": "markdown",
   "metadata": {},
   "source": [
    "---\n",
    "## In Game \n",
    "- Already so many company use Anomaly Detection finding aka. GameBot"
   ]
  },
  {
   "cell_type": "markdown",
   "metadata": {},
   "source": [
    "## **google cloud tech presentation** - in May 10, 2019\n",
    "- Netmable"
   ]
  },
  {
   "cell_type": "code",
   "execution_count": 87,
   "metadata": {},
   "outputs": [
    {
     "data": {
      "image/jpeg": "[encoded data removed]",
      "text/html": [
       "\n",
       "        <iframe\n",
       "            width=\"600\"\n",
       "            height=\"480\"\n",
       "            src=\"https://www.youtube.com/embed/xrZ9BRK5WAg\"\n",
       "            frameborder=\"0\"\n",
       "            allowfullscreen\n",
       "        ></iframe>\n",
       "        "
      ],
      "text/plain": [
       "<IPython.lib.display.YouTubeVideo at 0x7f0ad02b3390>"
      ]
     },
     "execution_count": 87,
     "metadata": {},
     "output_type": "execute_result"
    }
   ],
   "source": [
    "from IPython.display import YouTubeVideo\n",
    "YouTubeVideo('xrZ9BRK5WAg', width=600, height=480)"
   ]
  },
  {
   "cell_type": "markdown",
   "metadata": {},
   "source": [
    "<img src=\"https://blog.kakaocdn.net/dn/2EwaL/btq60IMBfzV/2TWCr5YyVhHWLjRrj2P3T1/img.png\" align =\"left\">"
   ]
  },
  {
   "cell_type": "markdown",
   "metadata": {},
   "source": [
    "- 기존 규칙 기반의 봇 탐지 보다 확실히 좋은.. 성능"
   ]
  },
  {
   "cell_type": "markdown",
   "metadata": {},
   "source": [
    "##### "
   ]
  },
  {
   "cell_type": "markdown",
   "metadata": {},
   "source": [
    "# 그럼 예제 문제 시작하겠습니다."
   ]
  },
  {
   "cell_type": "markdown",
   "metadata": {},
   "source": [
    "#### KDD99 DATA SET\n",
    "- Old dataset 20 years old \n",
    "- Still widely used to demonstarate intrusion Detection system \n",
    "- Used for international knowledge Discovery and Data Mining Tools Competition"
   ]
  },
  {
   "cell_type": "markdown",
   "metadata": {},
   "source": [
    "### Tasks "
   ]
  },
  {
   "cell_type": "markdown",
   "metadata": {},
   "source": [
    "- build a network intrusion detector **침입 감지**\n",
    "    - predictive model capable of distinguishing between **\"bad\"**, **\"good\"** connection "
   ]
  },
  {
   "cell_type": "markdown",
   "metadata": {},
   "source": [
    "> TMI"
   ]
  },
  {
   "cell_type": "markdown",
   "metadata": {},
   "source": [
    "- This database contains a standard set of data to be audited,\n",
    "- including a wide variety of intrusions simulated in a military network environment."
   ]
  },
  {
   "cell_type": "markdown",
   "metadata": {},
   "source": [
    "##### Note \n",
    "- kdd99 does not include column names, caus to old "
   ]
  },
  {
   "cell_type": "code",
   "execution_count": 88,
   "metadata": {},
   "outputs": [
    {
     "name": "stdout",
     "output_type": "stream",
     "text": [
      "/home/flycode77/.keras/datasets/kddcup.data_10_percent.gz\n",
      "Read 494021 rows.\n"
     ]
    },
    {
     "data": {
      "text/html": [
       "<div>\n",
       "<style scoped>\n",
       "    .dataframe tbody tr th:only-of-type {\n",
       "        vertical-align: middle;\n",
       "    }\n",
       "\n",
       "    .dataframe tbody tr th {\n",
       "        vertical-align: top;\n",
       "    }\n",
       "\n",
       "    .dataframe thead th {\n",
       "        text-align: right;\n",
       "    }\n",
       "</style>\n",
       "<table border=\"1\" class=\"dataframe\">\n",
       "  <thead>\n",
       "    <tr style=\"text-align: right;\">\n",
       "      <th></th>\n",
       "      <th>duration</th>\n",
       "      <th>protocol_type</th>\n",
       "      <th>...</th>\n",
       "      <th>dst_host_srv_rerror_rate</th>\n",
       "      <th>outcome</th>\n",
       "    </tr>\n",
       "  </thead>\n",
       "  <tbody>\n",
       "    <tr>\n",
       "      <th>0</th>\n",
       "      <td>0</td>\n",
       "      <td>tcp</td>\n",
       "      <td>...</td>\n",
       "      <td>0.0</td>\n",
       "      <td>normal.</td>\n",
       "    </tr>\n",
       "    <tr>\n",
       "      <th>1</th>\n",
       "      <td>0</td>\n",
       "      <td>tcp</td>\n",
       "      <td>...</td>\n",
       "      <td>0.0</td>\n",
       "      <td>normal.</td>\n",
       "    </tr>\n",
       "    <tr>\n",
       "      <th>...</th>\n",
       "      <td>...</td>\n",
       "      <td>...</td>\n",
       "      <td>...</td>\n",
       "      <td>...</td>\n",
       "      <td>...</td>\n",
       "    </tr>\n",
       "    <tr>\n",
       "      <th>494019</th>\n",
       "      <td>0</td>\n",
       "      <td>tcp</td>\n",
       "      <td>...</td>\n",
       "      <td>0.0</td>\n",
       "      <td>normal.</td>\n",
       "    </tr>\n",
       "    <tr>\n",
       "      <th>494020</th>\n",
       "      <td>0</td>\n",
       "      <td>tcp</td>\n",
       "      <td>...</td>\n",
       "      <td>0.0</td>\n",
       "      <td>normal.</td>\n",
       "    </tr>\n",
       "  </tbody>\n",
       "</table>\n",
       "<p>494021 rows × 42 columns</p>\n",
       "</div>"
      ],
      "text/plain": [
       "        duration protocol_type  ... dst_host_srv_rerror_rate  outcome\n",
       "0              0           tcp  ...                      0.0  normal.\n",
       "1              0           tcp  ...                      0.0  normal.\n",
       "...          ...           ...  ...                      ...      ...\n",
       "494019         0           tcp  ...                      0.0  normal.\n",
       "494020         0           tcp  ...                      0.0  normal.\n",
       "\n",
       "[494021 rows x 42 columns]"
      ]
     },
     "execution_count": 88,
     "metadata": {},
     "output_type": "execute_result"
    }
   ],
   "source": [
    "import pandas as pd\n",
    "from tensorflow.keras.utils import get_file\n",
    "\n",
    "pd.set_option('display.max_columns', 6)\n",
    "pd.set_option('display.max_rows', 5)\n",
    "\n",
    "try:\n",
    "    path = get_file('kddcup.data_10_percent.gz', origin=\\\n",
    "    'http://kdd.ics.uci.edu/databases/kddcup99/kddcup.data_10_percent.gz')\n",
    "except:\n",
    "    print('Error downloading')\n",
    "    raise\n",
    "    \n",
    "print(path) \n",
    "\n",
    "df = pd.read_csv(path, header=None)\n",
    "\n",
    "print(\"Read {} rows.\".format(len(df)))\n",
    "\n",
    "df.dropna(inplace=True,axis=1) \n",
    "\n",
    "df.columns = [\n",
    "    'duration',\n",
    "    'protocol_type',\n",
    "    'service',\n",
    "    'flag',\n",
    "    'src_bytes',\n",
    "    'dst_bytes',\n",
    "    'land',\n",
    "    'wrong_fragment',\n",
    "    'urgent',\n",
    "    'hot',\n",
    "    'num_failed_logins',\n",
    "    'logged_in',\n",
    "    'num_compromised',\n",
    "    'root_shell',\n",
    "    'su_attempted',\n",
    "    'num_root',\n",
    "    'num_file_creations',\n",
    "    'num_shells',\n",
    "    'num_access_files',\n",
    "    'num_outbound_cmds',\n",
    "    'is_host_login',\n",
    "    'is_guest_login',\n",
    "    'count',\n",
    "    'srv_count',\n",
    "    'serror_rate',\n",
    "    'srv_serror_rate',\n",
    "    'rerror_rate',\n",
    "    'srv_rerror_rate',\n",
    "    'same_srv_rate',\n",
    "    'diff_srv_rate',\n",
    "    'srv_diff_host_rate',\n",
    "    'dst_host_count',\n",
    "    'dst_host_srv_count',\n",
    "    'dst_host_same_srv_rate',\n",
    "    'dst_host_diff_srv_rate',\n",
    "    'dst_host_same_src_port_rate',\n",
    "    'dst_host_srv_diff_host_rate',\n",
    "    'dst_host_serror_rate',\n",
    "    'dst_host_srv_serror_rate',\n",
    "    'dst_host_rerror_rate',\n",
    "    'dst_host_srv_rerror_rate',\n",
    "    'outcome'\n",
    "]\n",
    "\n",
    "# display 5 rows\n",
    "pd.set_option('display.max_columns', 5)\n",
    "pd.set_option('display.max_rows', 5)\n",
    "df"
   ]
  },
  {
   "cell_type": "code",
   "execution_count": 89,
   "metadata": {},
   "outputs": [],
   "source": [
    "# \"outcome\" specifies either \"normal,\" indicating no attack, or the type of attack performed. "
   ]
  },
  {
   "cell_type": "code",
   "execution_count": 90,
   "metadata": {
    "scrolled": true
   },
   "outputs": [
    {
     "data": {
      "text/plain": [
       "outcome\n",
       "back.               2203\n",
       "buffer_overflow.      30\n",
       "                    ... \n",
       "warezclient.        1020\n",
       "warezmaster.          20\n",
       "Name: outcome, Length: 23, dtype: int64"
      ]
     },
     "execution_count": 90,
     "metadata": {},
     "output_type": "execute_result"
    }
   ],
   "source": [
    "df.groupby('outcome')[\"outcome\"].count()"
   ]
  },
  {
   "cell_type": "markdown",
   "metadata": {},
   "source": [
    "### Preprocessing"
   ]
  },
  {
   "cell_type": "markdown",
   "metadata": {},
   "source": [
    "- Before MLP learn need some processing \n",
    "    - 1. The first function converts numeric columns into Z-Scores. # 정규화\n",
    "    - 2. The second function replaces categorical values with dummy variables."
   ]
  },
  {
   "cell_type": "code",
   "execution_count": 91,
   "metadata": {},
   "outputs": [],
   "source": [
    "# Encode a numeric column as zscores\n",
    "def encode_numeric_zscore(df, name, mean=None, sd=None):\n",
    "    if mean is None:\n",
    "        mean = df[name].mean()\n",
    "\n",
    "    if sd is None:\n",
    "        sd = df[name].std()\n",
    "\n",
    "    df[name] = (df[name] - mean) / sd\n",
    "    \n",
    "# Encode text values to dummy variables(i.e. [1,0,0],[0,1,0],[0,0,1] \n",
    "# for red,green,blue)\n",
    "def encode_text_dummy(df, name):\n",
    "    dummies = pd.get_dummies(df[name])\n",
    "    for x in dummies.columns:\n",
    "        dummy_name = f\"{name}-{x}\"\n",
    "        df[dummy_name] = dummies[x]\n",
    "    df.drop(name, axis=1, inplace=True)\n"
   ]
  },
  {
   "cell_type": "code",
   "execution_count": 92,
   "metadata": {},
   "outputs": [
    {
     "data": {
      "text/html": [
       "<div>\n",
       "<style scoped>\n",
       "    .dataframe tbody tr th:only-of-type {\n",
       "        vertical-align: middle;\n",
       "    }\n",
       "\n",
       "    .dataframe tbody tr th {\n",
       "        vertical-align: top;\n",
       "    }\n",
       "\n",
       "    .dataframe thead th {\n",
       "        text-align: right;\n",
       "    }\n",
       "</style>\n",
       "<table border=\"1\" class=\"dataframe\">\n",
       "  <thead>\n",
       "    <tr style=\"text-align: right;\">\n",
       "      <th></th>\n",
       "      <th>duration</th>\n",
       "      <th>src_bytes</th>\n",
       "      <th>dst_bytes</th>\n",
       "      <th>...</th>\n",
       "      <th>is_host_login-0</th>\n",
       "      <th>is_guest_login-0</th>\n",
       "      <th>is_guest_login-1</th>\n",
       "    </tr>\n",
       "  </thead>\n",
       "  <tbody>\n",
       "    <tr>\n",
       "      <th>0</th>\n",
       "      <td>-0.067792</td>\n",
       "      <td>-0.002879</td>\n",
       "      <td>0.138664</td>\n",
       "      <td>...</td>\n",
       "      <td>1</td>\n",
       "      <td>1</td>\n",
       "      <td>0</td>\n",
       "    </tr>\n",
       "    <tr>\n",
       "      <th>1</th>\n",
       "      <td>-0.067792</td>\n",
       "      <td>-0.002820</td>\n",
       "      <td>-0.011578</td>\n",
       "      <td>...</td>\n",
       "      <td>1</td>\n",
       "      <td>1</td>\n",
       "      <td>0</td>\n",
       "    </tr>\n",
       "    <tr>\n",
       "      <th>2</th>\n",
       "      <td>-0.067792</td>\n",
       "      <td>-0.002824</td>\n",
       "      <td>0.014179</td>\n",
       "      <td>...</td>\n",
       "      <td>1</td>\n",
       "      <td>1</td>\n",
       "      <td>0</td>\n",
       "    </tr>\n",
       "    <tr>\n",
       "      <th>3</th>\n",
       "      <td>-0.067792</td>\n",
       "      <td>-0.002840</td>\n",
       "      <td>0.014179</td>\n",
       "      <td>...</td>\n",
       "      <td>1</td>\n",
       "      <td>1</td>\n",
       "      <td>0</td>\n",
       "    </tr>\n",
       "    <tr>\n",
       "      <th>4</th>\n",
       "      <td>-0.067792</td>\n",
       "      <td>-0.002842</td>\n",
       "      <td>0.035214</td>\n",
       "      <td>...</td>\n",
       "      <td>1</td>\n",
       "      <td>1</td>\n",
       "      <td>0</td>\n",
       "    </tr>\n",
       "  </tbody>\n",
       "</table>\n",
       "<p>5 rows × 121 columns</p>\n",
       "</div>"
      ],
      "text/plain": [
       "   duration  src_bytes  dst_bytes  ...  is_host_login-0  is_guest_login-0  \\\n",
       "0 -0.067792  -0.002879   0.138664  ...                1                 1   \n",
       "1 -0.067792  -0.002820  -0.011578  ...                1                 1   \n",
       "2 -0.067792  -0.002824   0.014179  ...                1                 1   \n",
       "3 -0.067792  -0.002840   0.014179  ...                1                 1   \n",
       "4 -0.067792  -0.002842   0.035214  ...                1                 1   \n",
       "\n",
       "   is_guest_login-1  \n",
       "0                 0  \n",
       "1                 0  \n",
       "2                 0  \n",
       "3                 0  \n",
       "4                 0  \n",
       "\n",
       "[5 rows x 121 columns]"
      ]
     },
     "execution_count": 92,
     "metadata": {},
     "output_type": "execute_result"
    }
   ],
   "source": [
    "# Now encode the feature vector\n",
    "\n",
    "pd.set_option('display.max_columns', 6)\n",
    "pd.set_option('display.max_rows', 5)\n",
    "\n",
    "encode_numeric_zscore(df, 'duration')\n",
    "encode_text_dummy(df, 'protocol_type')\n",
    "encode_text_dummy(df, 'service')\n",
    "encode_text_dummy(df, 'flag')\n",
    "encode_numeric_zscore(df, 'src_bytes')\n",
    "encode_numeric_zscore(df, 'dst_bytes')\n",
    "encode_text_dummy(df, 'land')\n",
    "encode_numeric_zscore(df, 'wrong_fragment')\n",
    "encode_numeric_zscore(df, 'urgent')\n",
    "encode_numeric_zscore(df, 'hot')\n",
    "encode_numeric_zscore(df, 'num_failed_logins')\n",
    "encode_text_dummy(df, 'logged_in')\n",
    "encode_numeric_zscore(df, 'num_compromised')\n",
    "encode_numeric_zscore(df, 'root_shell')\n",
    "encode_numeric_zscore(df, 'su_attempted')\n",
    "encode_numeric_zscore(df, 'num_root')\n",
    "encode_numeric_zscore(df, 'num_file_creations')\n",
    "encode_numeric_zscore(df, 'num_shells')\n",
    "encode_numeric_zscore(df, 'num_access_files')\n",
    "encode_numeric_zscore(df, 'num_outbound_cmds')\n",
    "encode_text_dummy(df, 'is_host_login')\n",
    "encode_text_dummy(df, 'is_guest_login')\n",
    "encode_numeric_zscore(df, 'count')\n",
    "encode_numeric_zscore(df, 'srv_count')\n",
    "encode_numeric_zscore(df, 'serror_rate')\n",
    "encode_numeric_zscore(df, 'srv_serror_rate')\n",
    "encode_numeric_zscore(df, 'rerror_rate')\n",
    "encode_numeric_zscore(df, 'srv_rerror_rate')\n",
    "encode_numeric_zscore(df, 'same_srv_rate')\n",
    "encode_numeric_zscore(df, 'diff_srv_rate')\n",
    "encode_numeric_zscore(df, 'srv_diff_host_rate')\n",
    "encode_numeric_zscore(df, 'dst_host_count')\n",
    "encode_numeric_zscore(df, 'dst_host_srv_count')\n",
    "encode_numeric_zscore(df, 'dst_host_same_srv_rate')\n",
    "encode_numeric_zscore(df, 'dst_host_diff_srv_rate')\n",
    "encode_numeric_zscore(df, 'dst_host_same_src_port_rate')\n",
    "encode_numeric_zscore(df, 'dst_host_srv_diff_host_rate')\n",
    "encode_numeric_zscore(df, 'dst_host_serror_rate')\n",
    "encode_numeric_zscore(df, 'dst_host_srv_serror_rate')\n",
    "encode_numeric_zscore(df, 'dst_host_rerror_rate')\n",
    "encode_numeric_zscore(df, 'dst_host_srv_rerror_rate')\n",
    "\n",
    "# display 5 rows\n",
    "\n",
    "df.dropna(inplace=True,axis=1)\n",
    "df[0:5]"
   ]
  },
  {
   "cell_type": "markdown",
   "metadata": {},
   "source": [
    "# TO DO ANOMALY DETECTION \n",
    "- Perform anomaly detection, \n",
    "- Data need to divide by two grouop (\"Normal\", \"various Attack \")"
   ]
  },
  {
   "cell_type": "code",
   "execution_count": 93,
   "metadata": {},
   "outputs": [
    {
     "name": "stdout",
     "output_type": "stream",
     "text": [
      "Normal count: 97278\n",
      "Attack count: 396743\n"
     ]
    }
   ],
   "source": [
    "normal_mask = df['outcome']=='normal.'\n",
    "attack_mask = df['outcome']!='normal.'\n",
    "\n",
    "df.drop('outcome',axis=1,inplace=True)\n",
    "\n",
    "df_normal = df[normal_mask]\n",
    "df_attack = df[attack_mask]\n",
    "\n",
    "print(f\"Normal count: {len(df_normal)}\")\n",
    "print(f\"Attack count: {len(df_attack)}\")"
   ]
  },
  {
   "cell_type": "code",
   "execution_count": 94,
   "metadata": {},
   "outputs": [],
   "source": [
    "# Convert DataFrame into Numpy arrays, keras need numpy\n",
    "x_normal = df_normal.values\n",
    "x_attack = df_attack.values"
   ]
  },
  {
   "cell_type": "markdown",
   "metadata": {},
   "source": [
    "## Training the Autoencoder "
   ]
  },
  {
   "cell_type": "code",
   "execution_count": null,
   "metadata": {},
   "outputs": [],
   "source": []
  },
  {
   "cell_type": "markdown",
   "metadata": {},
   "source": [
    "- important to note that we are not using the outcome column as a label to predict\n",
    "- This anomaly detection is unsupervised\n",
    "- **no target (y)**\n",
    "- train an autoencoder on the normal data \n",
    "- see how well it can detect that the data not flagged as \"normal\" represents an anomaly"
   ]
  },
  {
   "cell_type": "code",
   "execution_count": 95,
   "metadata": {},
   "outputs": [],
   "source": [
    "from sklearn.model_selection import train_test_split\n",
    "\n",
    "x_normal_train, x_normal_test = train_test_split(\n",
    "    x_normal, test_size=0.3, random_state=77)"
   ]
  },
  {
   "cell_type": "code",
   "execution_count": 96,
   "metadata": {},
   "outputs": [
    {
     "name": "stdout",
     "output_type": "stream",
     "text": [
      "Normal train count: 68094\n",
      "Normal test count: 29184\n"
     ]
    }
   ],
   "source": [
    "print(f\"Normal train count: {len(x_normal_train)}\")\n",
    "print(f\"Normal test count: {len(x_normal_test)}\")"
   ]
  },
  {
   "cell_type": "markdown",
   "metadata": {},
   "source": [
    "# How to learn?"
   ]
  },
  {
   "cell_type": "markdown",
   "metadata": {},
   "source": [
    "- The autoencoder will learn to compress the data to a vector of just three numbers\n",
    "- autoencoder should be able to also decompress with reasonable accuracy"
   ]
  },
  {
   "cell_type": "code",
   "execution_count": 97,
   "metadata": {},
   "outputs": [
    {
     "name": "stdout",
     "output_type": "stream",
     "text": [
      "Epoch 1/100\n",
      "68094/68094 [==============================] - 2s 35us/sample - loss: 0.4558\n",
      "Epoch 2/100\n",
      "68094/68094 [==============================] - 1s 20us/sample - loss: 0.3404\n",
      "Epoch 3/100\n",
      "68094/68094 [==============================] - 1s 20us/sample - loss: 0.2653\n",
      "Epoch 4/100\n",
      "68094/68094 [==============================] - 1s 19us/sample - loss: 0.2524\n",
      "Epoch 5/100\n",
      "68094/68094 [==============================] - 1s 20us/sample - loss: 0.1907\n",
      "Epoch 6/100\n",
      "68094/68094 [==============================] - 1s 20us/sample - loss: 0.1941\n",
      "Epoch 7/100\n",
      "68094/68094 [==============================] - 1s 19us/sample - loss: 0.1948\n",
      "Epoch 8/100\n",
      "68094/68094 [==============================] - 1s 19us/sample - loss: 0.1834\n",
      "Epoch 9/100\n",
      "68094/68094 [==============================] - 1s 19us/sample - loss: 0.1993\n",
      "Epoch 10/100\n",
      "68094/68094 [==============================] - 1s 19us/sample - loss: 0.1783\n",
      "Epoch 11/100\n",
      "68094/68094 [==============================] - 1s 19us/sample - loss: 0.1800\n",
      "Epoch 12/100\n",
      "68094/68094 [==============================] - 1s 20us/sample - loss: 0.1851\n",
      "Epoch 13/100\n",
      "68094/68094 [==============================] - 1s 20us/sample - loss: 0.1778\n",
      "Epoch 14/100\n",
      "68094/68094 [==============================] - 1s 20us/sample - loss: 0.1832\n",
      "Epoch 15/100\n",
      "68094/68094 [==============================] - 1s 19us/sample - loss: 0.1685\n",
      "Epoch 16/100\n",
      "68094/68094 [==============================] - 1s 19us/sample - loss: 0.1876\n",
      "Epoch 17/100\n",
      "68094/68094 [==============================] - 1s 19us/sample - loss: 0.1767\n",
      "Epoch 18/100\n",
      "68094/68094 [==============================] - 1s 19us/sample - loss: 0.1707\n",
      "Epoch 19/100\n",
      "68094/68094 [==============================] - 1s 19us/sample - loss: 0.1622\n",
      "Epoch 20/100\n",
      "68094/68094 [==============================] - 1s 20us/sample - loss: 0.1699\n",
      "Epoch 21/100\n",
      "68094/68094 [==============================] - 1s 19us/sample - loss: 0.1591\n",
      "Epoch 22/100\n",
      "68094/68094 [==============================] - 1s 19us/sample - loss: 0.1658\n",
      "Epoch 23/100\n",
      "68094/68094 [==============================] - 1s 21us/sample - loss: 0.1671\n",
      "Epoch 24/100\n",
      "68094/68094 [==============================] - 1s 19us/sample - loss: 0.1619\n",
      "Epoch 25/100\n",
      "68094/68094 [==============================] - 1s 20us/sample - loss: 0.1485\n",
      "Epoch 26/100\n",
      "68094/68094 [==============================] - 1s 20us/sample - loss: 0.1571\n",
      "Epoch 27/100\n",
      "68094/68094 [==============================] - 1s 19us/sample - loss: 0.1511\n",
      "Epoch 28/100\n",
      "68094/68094 [==============================] - 1s 19us/sample - loss: 0.1535\n",
      "Epoch 29/100\n",
      "68094/68094 [==============================] - 1s 20us/sample - loss: 0.1464\n",
      "Epoch 30/100\n",
      "68094/68094 [==============================] - 1s 19us/sample - loss: 0.1440\n",
      "Epoch 31/100\n",
      "68094/68094 [==============================] - 1s 19us/sample - loss: 0.1521\n",
      "Epoch 32/100\n",
      "68094/68094 [==============================] - 1s 19us/sample - loss: 0.1384\n",
      "Epoch 33/100\n",
      "68094/68094 [==============================] - 1s 19us/sample - loss: 0.1521\n",
      "Epoch 34/100\n",
      "68094/68094 [==============================] - 1s 19us/sample - loss: 0.1597\n",
      "Epoch 35/100\n",
      "68094/68094 [==============================] - 1s 19us/sample - loss: 0.1310\n",
      "Epoch 36/100\n",
      "68094/68094 [==============================] - 1s 19us/sample - loss: 0.1372\n",
      "Epoch 37/100\n",
      "68094/68094 [==============================] - 1s 20us/sample - loss: 0.1413\n",
      "Epoch 38/100\n",
      "68094/68094 [==============================] - 1s 19us/sample - loss: 0.1422\n",
      "Epoch 39/100\n",
      "68094/68094 [==============================] - 1s 19us/sample - loss: 0.1330\n",
      "Epoch 40/100\n",
      "68094/68094 [==============================] - 1s 19us/sample - loss: 0.1289\n",
      "Epoch 41/100\n",
      "68094/68094 [==============================] - 1s 21us/sample - loss: 0.1471\n",
      "Epoch 42/100\n",
      "68094/68094 [==============================] - 1s 20us/sample - loss: 0.1282\n",
      "Epoch 43/100\n",
      "68094/68094 [==============================] - 1s 19us/sample - loss: 0.1405\n",
      "Epoch 44/100\n",
      "68094/68094 [==============================] - 1s 19us/sample - loss: 0.1391\n",
      "Epoch 45/100\n",
      "68094/68094 [==============================] - 1s 19us/sample - loss: 0.1488\n",
      "Epoch 46/100\n",
      "68094/68094 [==============================] - 1s 20us/sample - loss: 0.1198\n",
      "Epoch 47/100\n",
      "68094/68094 [==============================] - 1s 20us/sample - loss: 0.1240\n",
      "Epoch 48/100\n",
      "68094/68094 [==============================] - 1s 20us/sample - loss: 0.1359\n",
      "Epoch 49/100\n",
      "68094/68094 [==============================] - 1s 20us/sample - loss: 0.1239\n",
      "Epoch 50/100\n",
      "68094/68094 [==============================] - 1s 20us/sample - loss: 0.1334\n",
      "Epoch 51/100\n",
      "68094/68094 [==============================] - 1s 19us/sample - loss: 0.1188\n",
      "Epoch 52/100\n",
      "68094/68094 [==============================] - 1s 19us/sample - loss: 0.1238\n",
      "Epoch 53/100\n",
      "68094/68094 [==============================] - 1s 20us/sample - loss: 0.1251\n",
      "Epoch 54/100\n",
      "68094/68094 [==============================] - 1s 20us/sample - loss: 0.1224\n",
      "Epoch 55/100\n",
      "68094/68094 [==============================] - 1s 19us/sample - loss: 0.1482\n",
      "Epoch 56/100\n",
      "68094/68094 [==============================] - 1s 19us/sample - loss: 0.1311\n",
      "Epoch 57/100\n",
      "68094/68094 [==============================] - 1s 19us/sample - loss: 0.1163\n",
      "Epoch 58/100\n",
      "68094/68094 [==============================] - 1s 20us/sample - loss: 0.1248\n",
      "Epoch 59/100\n",
      "68094/68094 [==============================] - 1s 19us/sample - loss: 0.1304\n",
      "Epoch 60/100\n",
      "68094/68094 [==============================] - 1s 19us/sample - loss: 0.1176\n",
      "Epoch 61/100\n",
      "68094/68094 [==============================] - 1s 20us/sample - loss: 0.1181\n",
      "Epoch 62/100\n",
      "68094/68094 [==============================] - 1s 19us/sample - loss: 0.1143\n",
      "Epoch 63/100\n",
      "68094/68094 [==============================] - 1s 19us/sample - loss: 0.1340\n",
      "Epoch 64/100\n",
      "68094/68094 [==============================] - 1s 19us/sample - loss: 0.1233\n",
      "Epoch 65/100\n",
      "68094/68094 [==============================] - 1s 19us/sample - loss: 0.1154\n",
      "Epoch 66/100\n",
      "68094/68094 [==============================] - 1s 19us/sample - loss: 0.1136\n",
      "Epoch 67/100\n",
      "68094/68094 [==============================] - 1s 19us/sample - loss: 0.1176\n",
      "Epoch 68/100\n",
      "68094/68094 [==============================] - 1s 20us/sample - loss: 0.1300\n",
      "Epoch 69/100\n",
      "68094/68094 [==============================] - 1s 20us/sample - loss: 0.1251\n",
      "Epoch 70/100\n",
      "68094/68094 [==============================] - 1s 19us/sample - loss: 0.1267\n",
      "Epoch 71/100\n",
      "68094/68094 [==============================] - 1s 19us/sample - loss: 0.1152\n",
      "Epoch 72/100\n",
      "68094/68094 [==============================] - 1s 19us/sample - loss: 0.1104\n",
      "Epoch 73/100\n",
      "68094/68094 [==============================] - 1s 19us/sample - loss: 0.1175\n",
      "Epoch 74/100\n",
      "68094/68094 [==============================] - 1s 19us/sample - loss: 0.1241\n",
      "Epoch 75/100\n",
      "68094/68094 [==============================] - 1s 19us/sample - loss: 0.1096\n",
      "Epoch 76/100\n",
      "68094/68094 [==============================] - 1s 19us/sample - loss: 0.1108\n",
      "Epoch 77/100\n",
      "68094/68094 [==============================] - 1s 19us/sample - loss: 0.1140\n",
      "Epoch 78/100\n",
      "68094/68094 [==============================] - 1s 19us/sample - loss: 0.1128\n",
      "Epoch 79/100\n",
      "68094/68094 [==============================] - 1s 19us/sample - loss: 0.1151\n",
      "Epoch 80/100\n",
      "68094/68094 [==============================] - 1s 19us/sample - loss: 0.1138\n",
      "Epoch 81/100\n",
      "68094/68094 [==============================] - 1s 19us/sample - loss: 0.1160\n",
      "Epoch 82/100\n",
      "68094/68094 [==============================] - 1s 20us/sample - loss: 0.1181\n",
      "Epoch 83/100\n",
      "68094/68094 [==============================] - 1s 20us/sample - loss: 0.1032\n",
      "Epoch 84/100\n",
      "68094/68094 [==============================] - 1s 21us/sample - loss: 0.1157\n",
      "Epoch 85/100\n",
      "68094/68094 [==============================] - 1s 19us/sample - loss: 0.1025\n",
      "Epoch 86/100\n",
      "68094/68094 [==============================] - 1s 19us/sample - loss: 0.1103\n",
      "Epoch 87/100\n",
      "68094/68094 [==============================] - 1s 19us/sample - loss: 0.1021\n",
      "Epoch 88/100\n",
      "68094/68094 [==============================] - 1s 19us/sample - loss: 0.1061\n",
      "Epoch 89/100\n",
      "68094/68094 [==============================] - 1s 19us/sample - loss: 0.1185\n",
      "Epoch 90/100\n",
      "68094/68094 [==============================] - 1s 19us/sample - loss: 0.1036\n",
      "Epoch 91/100\n",
      "68094/68094 [==============================] - 1s 19us/sample - loss: 0.1029\n",
      "Epoch 92/100\n"
     ]
    },
    {
     "name": "stdout",
     "output_type": "stream",
     "text": [
      "68094/68094 [==============================] - 1s 19us/sample - loss: 0.1039\n",
      "Epoch 93/100\n",
      "68094/68094 [==============================] - 1s 19us/sample - loss: 0.1045\n",
      "Epoch 94/100\n",
      "68094/68094 [==============================] - 1s 19us/sample - loss: 0.1017\n",
      "Epoch 95/100\n",
      "68094/68094 [==============================] - 1s 19us/sample - loss: 0.1029\n",
      "Epoch 96/100\n",
      "68094/68094 [==============================] - 1s 19us/sample - loss: 0.1044\n",
      "Epoch 97/100\n",
      "68094/68094 [==============================] - 1s 19us/sample - loss: 0.1008\n",
      "Epoch 98/100\n",
      "68094/68094 [==============================] - 1s 19us/sample - loss: 0.1008\n",
      "Epoch 99/100\n",
      "68094/68094 [==============================] - 1s 19us/sample - loss: 0.1034\n",
      "Epoch 100/100\n",
      "68094/68094 [==============================] - 1s 19us/sample - loss: 0.0937\n"
     ]
    },
    {
     "data": {
      "text/plain": [
       "<tensorflow.python.keras.callbacks.History at 0x7f0ad008e8d0>"
      ]
     },
     "execution_count": 97,
     "metadata": {},
     "output_type": "execute_result"
    }
   ],
   "source": [
    "from sklearn import metrics\n",
    "import numpy as np\n",
    "import pandas as pd\n",
    "from IPython.display import display, HTML \n",
    "import tensorflow as tf\n",
    "from tensorflow.keras.models import Sequential\n",
    "from tensorflow.keras.layers import Dense, Activation\n",
    "\n",
    "model = Sequential()\n",
    "model.add(Dense(25, input_dim=x_normal.shape[1], activation='relu'))\n",
    "model.add(Dense(3, activation='relu')) # size to compress to\n",
    "\n",
    "model.add(Dense(25, activation='relu'))\n",
    "model.add(Dense(x_normal.shape[1])) # Multiple output neurons\n",
    "\n",
    "model.compile(loss='mean_squared_error', optimizer='adam')\n",
    "model.fit(x_normal_train,x_normal_train,verbose=1,epochs=100)"
   ]
  },
  {
   "cell_type": "markdown",
   "metadata": {},
   "source": [
    "# Detecting an Anomaly "
   ]
  },
  {
   "cell_type": "markdown",
   "metadata": {},
   "source": [
    "- encoding data that represents an attack. This higher error indicates an anomaly."
   ]
  },
  {
   "cell_type": "code",
   "execution_count": 98,
   "metadata": {},
   "outputs": [
    {
     "name": "stdout",
     "output_type": "stream",
     "text": [
      "Out of Sample Normal Score (RMSE): 0.3306574651748449\n",
      "Insample Normal Score (RMSE): 0.32958383415984016\n",
      "Attack Underway Score (RMSE): 0.5283584940098758\n"
     ]
    }
   ],
   "source": [
    "pred = model.predict(x_normal_test)\n",
    "score1 = np.sqrt(metrics.mean_squared_error(pred,x_normal_test))\n",
    "pred = model.predict(x_normal)\n",
    "score2 = np.sqrt(metrics.mean_squared_error(pred,x_normal))\n",
    "pred = model.predict(x_attack)\n",
    "score3 = np.sqrt(metrics.mean_squared_error(pred,x_attack))\n",
    "print(f\"Out of Sample Normal Score (RMSE): {score1}\")\n",
    "print(f\"Insample Normal Score (RMSE): {score2}\")\n",
    "print(f\"Attack Underway Score (RMSE): {score3}\")"
   ]
  },
  {
   "cell_type": "code",
   "execution_count": null,
   "metadata": {},
   "outputs": [],
   "source": []
  }
 ],
 "metadata": {
  "kernelspec": {
   "display_name": "Python 3",
   "language": "python",
   "name": "python3"
  },
  "language_info": {
   "codemirror_mode": {
    "name": "ipython",
    "version": 3
   },
   "file_extension": ".py",
   "mimetype": "text/x-python",
   "name": "python",
   "nbconvert_exporter": "python",
   "pygments_lexer": "ipython3",
   "version": "3.6.13"
  }
 },
 "nbformat": 4,
 "nbformat_minor": 4
}
