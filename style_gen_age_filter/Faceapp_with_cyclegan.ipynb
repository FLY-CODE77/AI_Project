{
 "cells": [
  {
   "cell_type": "markdown",
   "metadata": {
    "colab_type": "text",
    "id": "Z6JknUuqL6r_"
   },
   "source": [
    "Download data"
   ]
  },
  {
   "cell_type": "code",
   "execution_count": null,
   "metadata": {},
   "outputs": [],
   "source": [
    "!pip install requests"
   ]
  },
  {
   "cell_type": "code",
   "execution_count": 2,
   "metadata": {
    "colab": {},
    "colab_type": "code",
    "id": "rqB8gqq5L6sD"
   },
   "outputs": [],
   "source": [
    "import requests\n",
    "\n",
    "def download_file_from_google_drive(id, destination):\n",
    "    URL = \"https://docs.google.com/uc?export=download\"\n",
    "\n",
    "    session = requests.Session()\n",
    "\n",
    "    response = session.get(URL, params = { 'id' : id }, stream = True)\n",
    "    token = get_confirm_token(response)\n",
    "\n",
    "    if token:\n",
    "        params = { 'id' : id, 'confirm' : token }\n",
    "        response = session.get(URL, params = params, stream = True)\n",
    "\n",
    "    save_response_content(response, destination)    \n",
    "\n",
    "def get_confirm_token(response):\n",
    "    for key, value in response.cookies.items():\n",
    "        if key.startswith('download_warning'):\n",
    "            return value\n",
    "\n",
    "    return None\n",
    "\n",
    "def save_response_content(response, destination):\n",
    "    CHUNK_SIZE = 32768\n",
    "\n",
    "    with open(destination, \"wb\") as f:\n",
    "        for chunk in response.iter_content(CHUNK_SIZE):\n",
    "            if chunk: # filter out keep-alive new chunks\n",
    "                f.write(chunk)\n",
    "\n",
    "if __name__ == \"__main__\":\n",
    "    file_id = 'TAKE ID FROM SHAREABLE LINK'\n",
    "    destination = 'DESTINATION FILE ON YOUR DISK'\n",
    "    download_file_from_google_drive(\"0BxYys69jI14kYVM3aVhKS1VhRUk\", \"UTKFace.tar.gz\")"
   ]
  },
  {
   "cell_type": "markdown",
   "metadata": {
    "colab_type": "text",
    "id": "jG__fcyyL6sL"
   },
   "source": [
    "Install dependancies"
   ]
  },
  {
   "cell_type": "code",
   "execution_count": 3,
   "metadata": {
    "colab": {},
    "colab_type": "code",
    "id": "zAMUuuzLL6sM",
    "outputId": "21f9b245-d402-44b2-8542-5af6de834b6e"
   },
   "outputs": [
    {
     "name": "stdout",
     "output_type": "stream",
     "text": [
      "Requirement already satisfied: opencv-python in /home/flycode77/anaconda3/envs/tf1/lib/python3.6/site-packages (4.5.2.52)\n",
      "Requirement already satisfied: numpy>=1.13.3 in /home/flycode77/anaconda3/envs/tf1/lib/python3.6/site-packages (from opencv-python) (1.16.4)\n",
      "Reading package lists... Done\n",
      "E: Could not open lock file /var/lib/apt/lists/lock - open (13: Permission denied)\n",
      "E: Unable to lock directory /var/lib/apt/lists/\n",
      "W: Problem unlinking the file /var/cache/apt/pkgcache.bin - RemoveCaches (13: Permission denied)\n",
      "W: Problem unlinking the file /var/cache/apt/srcpkgcache.bin - RemoveCaches (13: Permission denied)\n"
     ]
    }
   ],
   "source": [
    "!pip install opencv-python\n",
    "!apt update && apt install -y libsm6 libxext6 libxrender-dev"
   ]
  },
  {
   "cell_type": "code",
   "execution_count": 5,
   "metadata": {},
   "outputs": [
    {
     "name": "stdout",
     "output_type": "stream",
     "text": [
      "Found existing installation: numpy 1.16.4\n",
      "Uninstalling numpy-1.16.4:\n",
      "  Successfully uninstalled numpy-1.16.4\n",
      "Collecting numpy==1.16.4\n",
      "  Using cached numpy-1.16.4-cp36-cp36m-manylinux1_x86_64.whl (17.3 MB)\n",
      "Installing collected packages: numpy\n",
      "Successfully installed numpy-1.16.4\n"
     ]
    }
   ],
   "source": [
    "!pip uninstall numpy -y\n",
    "!pip install numpy==1.16.4"
   ]
  },
  {
   "cell_type": "code",
   "execution_count": 6,
   "metadata": {
    "scrolled": true
   },
   "outputs": [
    {
     "name": "stdout",
     "output_type": "stream",
     "text": [
      "Requirement already satisfied: tensorflow==1.14.0 in /home/flycode77/anaconda3/envs/tf1/lib/python3.6/site-packages (1.14.0)\n",
      "Requirement already satisfied: wheel>=0.26 in /home/flycode77/anaconda3/envs/tf1/lib/python3.6/site-packages (from tensorflow==1.14.0) (0.36.2)\n",
      "Requirement already satisfied: astor>=0.6.0 in /home/flycode77/anaconda3/envs/tf1/lib/python3.6/site-packages (from tensorflow==1.14.0) (0.8.1)\n",
      "Requirement already satisfied: wrapt>=1.11.1 in /home/flycode77/anaconda3/envs/tf1/lib/python3.6/site-packages (from tensorflow==1.14.0) (1.12.1)\n",
      "Requirement already satisfied: gast>=0.2.0 in /home/flycode77/anaconda3/envs/tf1/lib/python3.6/site-packages (from tensorflow==1.14.0) (0.4.0)\n",
      "Requirement already satisfied: protobuf>=3.6.1 in /home/flycode77/anaconda3/envs/tf1/lib/python3.6/site-packages (from tensorflow==1.14.0) (3.15.8)\n",
      "Requirement already satisfied: termcolor>=1.1.0 in /home/flycode77/anaconda3/envs/tf1/lib/python3.6/site-packages (from tensorflow==1.14.0) (1.1.0)\n",
      "Requirement already satisfied: numpy<2.0,>=1.14.5 in /home/flycode77/anaconda3/envs/tf1/lib/python3.6/site-packages (from tensorflow==1.14.0) (1.16.4)\n",
      "Requirement already satisfied: tensorboard<1.15.0,>=1.14.0 in /home/flycode77/anaconda3/envs/tf1/lib/python3.6/site-packages (from tensorflow==1.14.0) (1.14.0)\n",
      "Requirement already satisfied: google-pasta>=0.1.6 in /home/flycode77/anaconda3/envs/tf1/lib/python3.6/site-packages (from tensorflow==1.14.0) (0.2.0)\n",
      "Requirement already satisfied: six>=1.10.0 in /home/flycode77/anaconda3/envs/tf1/lib/python3.6/site-packages (from tensorflow==1.14.0) (1.15.0)\n",
      "Requirement already satisfied: tensorflow-estimator<1.15.0rc0,>=1.14.0rc0 in /home/flycode77/anaconda3/envs/tf1/lib/python3.6/site-packages (from tensorflow==1.14.0) (1.14.0)\n",
      "Requirement already satisfied: keras-applications>=1.0.6 in /home/flycode77/anaconda3/envs/tf1/lib/python3.6/site-packages (from tensorflow==1.14.0) (1.0.8)\n",
      "Requirement already satisfied: grpcio>=1.8.6 in /home/flycode77/anaconda3/envs/tf1/lib/python3.6/site-packages (from tensorflow==1.14.0) (1.37.1)\n",
      "Requirement already satisfied: keras-preprocessing>=1.0.5 in /home/flycode77/anaconda3/envs/tf1/lib/python3.6/site-packages (from tensorflow==1.14.0) (1.1.2)\n",
      "Requirement already satisfied: absl-py>=0.7.0 in /home/flycode77/anaconda3/envs/tf1/lib/python3.6/site-packages (from tensorflow==1.14.0) (0.12.0)\n",
      "Requirement already satisfied: h5py in /home/flycode77/anaconda3/envs/tf1/lib/python3.6/site-packages (from keras-applications>=1.0.6->tensorflow==1.14.0) (3.1.0)\n",
      "Requirement already satisfied: werkzeug>=0.11.15 in /home/flycode77/anaconda3/envs/tf1/lib/python3.6/site-packages (from tensorboard<1.15.0,>=1.14.0->tensorflow==1.14.0) (1.0.1)\n",
      "Requirement already satisfied: setuptools>=41.0.0 in /home/flycode77/anaconda3/envs/tf1/lib/python3.6/site-packages (from tensorboard<1.15.0,>=1.14.0->tensorflow==1.14.0) (52.0.0.post20210125)\n",
      "Requirement already satisfied: markdown>=2.6.8 in /home/flycode77/anaconda3/envs/tf1/lib/python3.6/site-packages (from tensorboard<1.15.0,>=1.14.0->tensorflow==1.14.0) (3.3.4)\n",
      "Requirement already satisfied: importlib-metadata in /home/flycode77/anaconda3/envs/tf1/lib/python3.6/site-packages (from markdown>=2.6.8->tensorboard<1.15.0,>=1.14.0->tensorflow==1.14.0) (4.0.1)\n",
      "Requirement already satisfied: cached-property in /home/flycode77/anaconda3/envs/tf1/lib/python3.6/site-packages (from h5py->keras-applications>=1.0.6->tensorflow==1.14.0) (1.5.2)\n",
      "Requirement already satisfied: zipp>=0.5 in /home/flycode77/anaconda3/envs/tf1/lib/python3.6/site-packages (from importlib-metadata->markdown>=2.6.8->tensorboard<1.15.0,>=1.14.0->tensorflow==1.14.0) (3.4.1)\n",
      "Requirement already satisfied: typing-extensions>=3.6.4 in /home/flycode77/anaconda3/envs/tf1/lib/python3.6/site-packages (from importlib-metadata->markdown>=2.6.8->tensorboard<1.15.0,>=1.14.0->tensorflow==1.14.0) (3.10.0.0)\n"
     ]
    }
   ],
   "source": [
    "!pip install tensorflow==1.14.0"
   ]
  },
  {
   "cell_type": "code",
   "execution_count": 7,
   "metadata": {
    "colab": {},
    "colab_type": "code",
    "id": "ggA3CBobL6sV",
    "outputId": "2a621fcb-9c29-44a7-87b1-eaa302e69b1d",
    "scrolled": true
   },
   "outputs": [
    {
     "name": "stdout",
     "output_type": "stream",
     "text": [
      "Requirement already satisfied: keras==2.2.5 in /home/flycode77/anaconda3/envs/tf1/lib/python3.6/site-packages (2.2.5)\n",
      "Requirement already satisfied: scipy>=0.14 in /home/flycode77/anaconda3/envs/tf1/lib/python3.6/site-packages (from keras==2.2.5) (1.5.4)\n",
      "Requirement already satisfied: pyyaml in /home/flycode77/anaconda3/envs/tf1/lib/python3.6/site-packages (from keras==2.2.5) (5.4.1)\n",
      "Requirement already satisfied: h5py in /home/flycode77/anaconda3/envs/tf1/lib/python3.6/site-packages (from keras==2.2.5) (3.1.0)\n",
      "Requirement already satisfied: keras-applications>=1.0.8 in /home/flycode77/anaconda3/envs/tf1/lib/python3.6/site-packages (from keras==2.2.5) (1.0.8)\n",
      "Requirement already satisfied: numpy>=1.9.1 in /home/flycode77/anaconda3/envs/tf1/lib/python3.6/site-packages (from keras==2.2.5) (1.16.4)\n",
      "Requirement already satisfied: six>=1.9.0 in /home/flycode77/anaconda3/envs/tf1/lib/python3.6/site-packages (from keras==2.2.5) (1.15.0)\n",
      "Requirement already satisfied: keras-preprocessing>=1.1.0 in /home/flycode77/anaconda3/envs/tf1/lib/python3.6/site-packages (from keras==2.2.5) (1.1.2)\n",
      "Requirement already satisfied: cached-property in /home/flycode77/anaconda3/envs/tf1/lib/python3.6/site-packages (from h5py->keras==2.2.5) (1.5.2)\n"
     ]
    }
   ],
   "source": [
    "!pip install keras==2.2.5"
   ]
  },
  {
   "cell_type": "code",
   "execution_count": 8,
   "metadata": {
    "colab": {},
    "colab_type": "code",
    "id": "HGD_V5WTL6sZ",
    "outputId": "d5429567-4cc5-4761-c1d9-2a4d9f5d1a25"
   },
   "outputs": [
    {
     "name": "stdout",
     "output_type": "stream",
     "text": [
      "Requirement already satisfied: imageio in /home/flycode77/anaconda3/envs/tf1/lib/python3.6/site-packages (2.9.0)\r\n",
      "Requirement already satisfied: numpy in /home/flycode77/anaconda3/envs/tf1/lib/python3.6/site-packages (from imageio) (1.16.4)\r\n",
      "Requirement already satisfied: pillow in /home/flycode77/anaconda3/envs/tf1/lib/python3.6/site-packages (from imageio) (8.2.0)\r\n"
     ]
    }
   ],
   "source": [
    "!pip install imageio"
   ]
  },
  {
   "cell_type": "code",
   "execution_count": 9,
   "metadata": {
    "colab": {},
    "colab_type": "code",
    "id": "kH2Y-2hUL6sf",
    "outputId": "e8f49b50-2fb8-413b-c7fe-a018a261576a",
    "scrolled": true
   },
   "outputs": [
    {
     "name": "stdout",
     "output_type": "stream",
     "text": [
      "Requirement already satisfied: scikit-image in /home/flycode77/anaconda3/envs/tf1/lib/python3.6/site-packages (0.17.2)\n",
      "Requirement already satisfied: scipy>=1.0.1 in /home/flycode77/anaconda3/envs/tf1/lib/python3.6/site-packages (from scikit-image) (1.5.4)\n",
      "Requirement already satisfied: pillow!=7.1.0,!=7.1.1,>=4.3.0 in /home/flycode77/anaconda3/envs/tf1/lib/python3.6/site-packages (from scikit-image) (8.2.0)\n",
      "Requirement already satisfied: numpy>=1.15.1 in /home/flycode77/anaconda3/envs/tf1/lib/python3.6/site-packages (from scikit-image) (1.16.4)\n",
      "Requirement already satisfied: PyWavelets>=1.1.1 in /home/flycode77/anaconda3/envs/tf1/lib/python3.6/site-packages (from scikit-image) (1.1.1)\n",
      "Requirement already satisfied: networkx>=2.0 in /home/flycode77/anaconda3/envs/tf1/lib/python3.6/site-packages (from scikit-image) (2.5.1)\n",
      "Requirement already satisfied: imageio>=2.3.0 in /home/flycode77/anaconda3/envs/tf1/lib/python3.6/site-packages (from scikit-image) (2.9.0)\n",
      "Requirement already satisfied: tifffile>=2019.7.26 in /home/flycode77/anaconda3/envs/tf1/lib/python3.6/site-packages (from scikit-image) (2020.9.3)\n",
      "Requirement already satisfied: matplotlib!=3.0.0,>=2.0.0 in /home/flycode77/anaconda3/envs/tf1/lib/python3.6/site-packages (from scikit-image) (3.3.4)\n",
      "Requirement already satisfied: cycler>=0.10 in /home/flycode77/anaconda3/envs/tf1/lib/python3.6/site-packages (from matplotlib!=3.0.0,>=2.0.0->scikit-image) (0.10.0)\n",
      "Requirement already satisfied: pyparsing!=2.0.4,!=2.1.2,!=2.1.6,>=2.0.3 in /home/flycode77/anaconda3/envs/tf1/lib/python3.6/site-packages (from matplotlib!=3.0.0,>=2.0.0->scikit-image) (2.4.7)\n",
      "Requirement already satisfied: kiwisolver>=1.0.1 in /home/flycode77/anaconda3/envs/tf1/lib/python3.6/site-packages (from matplotlib!=3.0.0,>=2.0.0->scikit-image) (1.3.1)\n",
      "Requirement already satisfied: python-dateutil>=2.1 in /home/flycode77/anaconda3/envs/tf1/lib/python3.6/site-packages (from matplotlib!=3.0.0,>=2.0.0->scikit-image) (2.8.1)\n",
      "Requirement already satisfied: six in /home/flycode77/anaconda3/envs/tf1/lib/python3.6/site-packages (from cycler>=0.10->matplotlib!=3.0.0,>=2.0.0->scikit-image) (1.15.0)\n",
      "Requirement already satisfied: decorator<5,>=4.3 in /home/flycode77/anaconda3/envs/tf1/lib/python3.6/site-packages (from networkx>=2.0->scikit-image) (4.4.2)\n",
      "Note: you may need to restart the kernel to use updated packages.\n"
     ]
    }
   ],
   "source": [
    "pip install scikit-image"
   ]
  },
  {
   "cell_type": "code",
   "execution_count": 10,
   "metadata": {
    "colab": {},
    "colab_type": "code",
    "id": "evmDo4lEL6si",
    "outputId": "efed6cee-164e-4fd9-8ec2-d745735e42db"
   },
   "outputs": [
    {
     "name": "stdout",
     "output_type": "stream",
     "text": [
      "Collecting git+https://www.github.com/keras-team/keras-contrib.git\n",
      "  Cloning https://www.github.com/keras-team/keras-contrib.git to /tmp/pip-req-build-innh1gvr\n",
      "  Running command git clone -q https://www.github.com/keras-team/keras-contrib.git /tmp/pip-req-build-innh1gvr\n",
      "Requirement already satisfied: keras in /home/flycode77/anaconda3/envs/tf1/lib/python3.6/site-packages (from keras-contrib==2.0.8) (2.2.5)\n",
      "Requirement already satisfied: h5py in /home/flycode77/anaconda3/envs/tf1/lib/python3.6/site-packages (from keras->keras-contrib==2.0.8) (3.1.0)\n",
      "Requirement already satisfied: scipy>=0.14 in /home/flycode77/anaconda3/envs/tf1/lib/python3.6/site-packages (from keras->keras-contrib==2.0.8) (1.5.4)\n",
      "Requirement already satisfied: keras-applications>=1.0.8 in /home/flycode77/anaconda3/envs/tf1/lib/python3.6/site-packages (from keras->keras-contrib==2.0.8) (1.0.8)\n",
      "Requirement already satisfied: keras-preprocessing>=1.1.0 in /home/flycode77/anaconda3/envs/tf1/lib/python3.6/site-packages (from keras->keras-contrib==2.0.8) (1.1.2)\n",
      "Requirement already satisfied: numpy>=1.9.1 in /home/flycode77/anaconda3/envs/tf1/lib/python3.6/site-packages (from keras->keras-contrib==2.0.8) (1.16.4)\n",
      "Requirement already satisfied: six>=1.9.0 in /home/flycode77/anaconda3/envs/tf1/lib/python3.6/site-packages (from keras->keras-contrib==2.0.8) (1.15.0)\n",
      "Requirement already satisfied: pyyaml in /home/flycode77/anaconda3/envs/tf1/lib/python3.6/site-packages (from keras->keras-contrib==2.0.8) (5.4.1)\n",
      "Requirement already satisfied: cached-property in /home/flycode77/anaconda3/envs/tf1/lib/python3.6/site-packages (from h5py->keras->keras-contrib==2.0.8) (1.5.2)\n",
      "Note: you may need to restart the kernel to use updated packages.\n"
     ]
    }
   ],
   "source": [
    "pip install git+https://www.github.com/keras-team/keras-contrib.git"
   ]
  },
  {
   "cell_type": "markdown",
   "metadata": {
    "colab_type": "text",
    "id": "70ivFjysL6sn"
   },
   "source": [
    "Arrange data"
   ]
  },
  {
   "cell_type": "code",
   "execution_count": 11,
   "metadata": {
    "colab": {},
    "colab_type": "code",
    "id": "MylXMrwfL6sp",
    "outputId": "62d52642-59aa-41d1-d245-f034c29765f5"
   },
   "outputs": [],
   "source": [
    "!gunzip UTKFace.tar.gz\n",
    "!tar -xf UTKFace.tar"
   ]
  },
  {
   "cell_type": "code",
   "execution_count": 12,
   "metadata": {
    "colab": {},
    "colab_type": "code",
    "id": "yJPg5-F9L6sv",
    "outputId": "ff72b216-fa17-4cd6-a12b-76a2382e11ef"
   },
   "outputs": [],
   "source": [
    "!mkdir data\n",
    "!mkdir data/trainA data/trainB "
   ]
  },
  {
   "cell_type": "code",
   "execution_count": 13,
   "metadata": {
    "colab": {},
    "colab_type": "code",
    "id": "EUosNM-SL6s0",
    "outputId": "17e57906-284b-44ee-8585-6ef8f22aeec2"
   },
   "outputs": [
    {
     "name": "stdout",
     "output_type": "stream",
     "text": [
      "61_1_20170109142408075.jpg.chip.jpg\n",
      "61_1_20170109150557335.jpg.chip.jpg\n",
      "39_1_20170116174525125.jpg.chip.jpg\n"
     ]
    }
   ],
   "source": [
    "import os, shutil\n",
    "images = os.listdir(\"UTKFace\")\n",
    "for f in images:\n",
    "  try:\n",
    "    val = f.split(\"_\")\n",
    "    age = int(val[0])\n",
    "    race = int(val[2])\n",
    "    if(age >=20 and age<=30):\n",
    "      shutil.copy(\"UTKFace/\"+f, \"data/trainA\")\n",
    "    if(age >=50 and age<=60):\n",
    "      shutil.copy(\"UTKFace/\"+f, \"data/trainB\")   \n",
    "  except:\n",
    "    print(f)"
   ]
  },
  {
   "cell_type": "markdown",
   "metadata": {
    "colab_type": "text",
    "id": "_kaDdigyL6s3"
   },
   "source": [
    "Dataloader and preprocessing for input images"
   ]
  },
  {
   "cell_type": "code",
   "execution_count": 14,
   "metadata": {
    "colab": {},
    "colab_type": "code",
    "id": "1BJOKj9gL6s4"
   },
   "outputs": [],
   "source": [
    "import scipy\n",
    "from glob import glob\n",
    "import numpy as np\n",
    "from skimage.transform import resize\n",
    "import imageio\n",
    "\n",
    "class DataLoader():\n",
    "    def __init__(self, dataset_name, img_res=(128, 128)):\n",
    "        self.dataset_name = dataset_name\n",
    "        self.img_res = img_res\n",
    "\n",
    "    def load_data(self, domain, batch_size=1, is_testing=False):\n",
    "        path = glob('./%s/%s%s/*' % (self.dataset_name, \"train\", domain))\n",
    "        #data_type = \"train%s\" % domain if not is_testing else \"test%s\" % domain\n",
    "        \n",
    "        \n",
    "        batch_images = np.random.choice(path, size=batch_size)\n",
    "        imgs = []\n",
    "        print(domain, batch_images)\n",
    "        for img_path in batch_images:\n",
    "            img = self.imread(img_path)\n",
    "            if not is_testing:\n",
    "                img = resize(img, self.img_res)\n",
    "\n",
    "                if np.random.random() > 0.5:\n",
    "                    img = np.fliplr(img)\n",
    "            else:\n",
    "                img = resize(img, self.img_res)\n",
    "            imgs.append(img)\n",
    "\n",
    "        imgs = np.array(imgs)/127.5 - 1.\n",
    "\n",
    "        return imgs\n",
    "\n",
    "    def load_batch(self, batch_size=1, is_testing=False):\n",
    "        path_A = glob('./%s/%sA/*' % (self.dataset_name, \"train\"))\n",
    "        path_B = glob('./%s/%sB/*' % (self.dataset_name, \"train\"))\n",
    "        print(len(path_A), len(path_B))\n",
    "        self.n_batches = int(min(len(path_A), len(path_B)) / batch_size)      \n",
    "        total_samples = self.n_batches * batch_size\n",
    "\n",
    "        # Sample n_batches * batch_size from each path list so that model sees all\n",
    "        # samples from both domains\n",
    "        path_A = np.random.choice(path_A, total_samples, replace=False)\n",
    "        path_B = np.random.choice(path_B, total_samples, replace=False)\n",
    "\n",
    "        for i in range(self.n_batches-1):\n",
    "            batch_A = path_A[i*batch_size:(i+1)*batch_size]\n",
    "            batch_B = path_B[i*batch_size:(i+1)*batch_size]\n",
    "            imgs_A, imgs_B = [], []\n",
    "            for img_A, img_B in zip(batch_A, batch_B):            \n",
    "                img_A = self.imread(img_A)\n",
    "                img_B = self.imread(img_B)\n",
    "\n",
    "                img_A = resize(img_A, self.img_res)\n",
    "                img_B = resize(img_B, self.img_res)\n",
    "\n",
    "                if not is_testing and np.random.random() > 0.5:\n",
    "                        img_A = np.fliplr(img_A)\n",
    "                        img_B = np.fliplr(img_B)\n",
    "\n",
    "                imgs_A.append(img_A)\n",
    "                imgs_B.append(img_B)\n",
    "\n",
    "            imgs_A = np.array(imgs_A)/127.5 - 1.\n",
    "            imgs_B = np.array(imgs_B)/127.5 - 1.\n",
    "\n",
    "            yield imgs_A, imgs_B\n",
    "\n",
    "    def load_img(self, path):\n",
    "        img = self.imread(path)\n",
    "        img = resize(img, self.img_res)\n",
    "        img = img/127.5 - 1.\n",
    "        return img[np.newaxis, :, :, :]\n",
    "      \n",
    "    def get_img(self, img):\n",
    "        img = resize(img, self.img_res)\n",
    "        img = img/127.5 - 1.\n",
    "        return img\n",
    "      \n",
    "    def revert_img(self, img, new_res):\n",
    "      img = resize(img, new_res)\n",
    "      img = (img)*0.5 + 0.5\n",
    "      img = img*255\n",
    "      img = img.astype(np.float32)\n",
    "      return img \n",
    "\n",
    "    def imread(self, path):\n",
    "        return imageio.imread(path, as_gray=False, pilmode=\"RGB\").astype(np.float)\n",
    "      \n",
    "def revert_img(img, new_res):\n",
    "  img = (img)*0.5 + 0.5\n",
    "  img = img*255\n",
    "  img = resize(img, new_res)\n",
    "  img = img.astype(np.float32)\n",
    "  return img"
   ]
  },
  {
   "cell_type": "markdown",
   "metadata": {
    "colab_type": "text",
    "id": "G0a3FVVNL6s7"
   },
   "source": [
    "CycleGan code\n",
    "Follow the tricks mentioned in the article"
   ]
  },
  {
   "cell_type": "code",
   "execution_count": null,
   "metadata": {
    "colab": {},
    "colab_type": "code",
    "id": "Kv7Y7zIZL6s-",
    "scrolled": true
   },
   "outputs": [
    {
     "name": "stderr",
     "output_type": "stream",
     "text": [
      "Using TensorFlow backend.\n"
     ]
    },
    {
     "name": "stdout",
     "output_type": "stream",
     "text": [
      "WARNING:tensorflow:From /home/flycode77/anaconda3/envs/tf1/lib/python3.6/site-packages/keras/backend/tensorflow_backend.py:66: The name tf.get_default_graph is deprecated. Please use tf.compat.v1.get_default_graph instead.\n",
      "\n",
      "WARNING:tensorflow:From /home/flycode77/anaconda3/envs/tf1/lib/python3.6/site-packages/keras/backend/tensorflow_backend.py:541: The name tf.placeholder is deprecated. Please use tf.compat.v1.placeholder instead.\n",
      "\n",
      "WARNING:tensorflow:From /home/flycode77/anaconda3/envs/tf1/lib/python3.6/site-packages/keras/backend/tensorflow_backend.py:4432: The name tf.random_uniform is deprecated. Please use tf.random.uniform instead.\n",
      "\n",
      "WARNING:tensorflow:From /home/flycode77/anaconda3/envs/tf1/lib/python3.6/site-packages/keras/optimizers.py:793: The name tf.train.Optimizer is deprecated. Please use tf.compat.v1.train.Optimizer instead.\n",
      "\n",
      "8068 2592\n",
      "WARNING:tensorflow:From /home/flycode77/anaconda3/envs/tf1/lib/python3.6/site-packages/keras/backend/tensorflow_backend.py:3005: The name tf.Session is deprecated. Please use tf.compat.v1.Session instead.\n",
      "\n",
      "WARNING:tensorflow:From /home/flycode77/anaconda3/envs/tf1/lib/python3.6/site-packages/keras/backend/tensorflow_backend.py:190: The name tf.get_default_session is deprecated. Please use tf.compat.v1.get_default_session instead.\n",
      "\n"
     ]
    },
    {
     "name": "stderr",
     "output_type": "stream",
     "text": [
      "/home/flycode77/anaconda3/envs/tf1/lib/python3.6/site-packages/keras/engine/training.py:493: UserWarning: Discrepancy between trainable weights and collected trainable weights, did you set `model.trainable` without calling `model.compile` after ?\n",
      "  'Discrepancy between trainable weights and collected trainable'\n",
      "/home/flycode77/anaconda3/envs/tf1/lib/python3.6/site-packages/keras/engine/training.py:493: UserWarning: Discrepancy between trainable weights and collected trainable weights, did you set `model.trainable` without calling `model.compile` after ?\n",
      "  'Discrepancy between trainable weights and collected trainable'\n",
      "/home/flycode77/anaconda3/envs/tf1/lib/python3.6/site-packages/keras/engine/training.py:493: UserWarning: Discrepancy between trainable weights and collected trainable weights, did you set `model.trainable` without calling `model.compile` after ?\n",
      "  'Discrepancy between trainable weights and collected trainable'\n"
     ]
    },
    {
     "name": "stdout",
     "output_type": "stream",
     "text": [
      "[Age Epoch 0/50] [Batch 0/1296] [D loss: 26.324120, acc:  13%] [G loss: 266.446136, adv: 133.154388, recon: 0.625915, id: 0.687639]  time: 0:00:52.467198 \n",
      "A ['./data/trainA/26_1_3_20170119192844345.jpg.chip.jpg']\n",
      "B ['./data/trainB/56_1_0_20170103180406295.jpg.chip.jpg']\n"
     ]
    },
    {
     "name": "stderr",
     "output_type": "stream",
     "text": [
      "/home/flycode77/anaconda3/envs/tf1/lib/python3.6/site-packages/keras/engine/training.py:493: UserWarning: Discrepancy between trainable weights and collected trainable weights, did you set `model.trainable` without calling `model.compile` after ?\n",
      "  'Discrepancy between trainable weights and collected trainable'\n"
     ]
    },
    {
     "name": "stdout",
     "output_type": "stream",
     "text": [
      "A ['./data/trainA/26_1_4_20170103224710662.jpg.chip.jpg']\n",
      "B ['./data/trainB/50_0_0_20170111171747287.jpg.chip.jpg']\n"
     ]
    },
    {
     "name": "stderr",
     "output_type": "stream",
     "text": [
      "Clipping input data to the valid range for imshow with RGB data ([0..1] for floats or [0..255] for integers).\n"
     ]
    },
    {
     "name": "stdout",
     "output_type": "stream",
     "text": [
      "A ['./data/trainA/28_1_1_20170114031123751.jpg.chip.jpg']\n",
      "B ['./data/trainB/50_1_1_20170117001143232.jpg.chip.jpg']\n"
     ]
    },
    {
     "name": "stderr",
     "output_type": "stream",
     "text": [
      "Clipping input data to the valid range for imshow with RGB data ([0..1] for floats or [0..255] for integers).\n"
     ]
    },
    {
     "name": "stdout",
     "output_type": "stream",
     "text": [
      "A ['./data/trainA/27_0_0_20170117114920473.jpg.chip.jpg']\n",
      "B ['./data/trainB/55_0_2_20170104023159589.jpg.chip.jpg']\n"
     ]
    },
    {
     "name": "stderr",
     "output_type": "stream",
     "text": [
      "Clipping input data to the valid range for imshow with RGB data ([0..1] for floats or [0..255] for integers).\n",
      "Clipping input data to the valid range for imshow with RGB data ([0..1] for floats or [0..255] for integers).\n"
     ]
    },
    {
     "name": "stdout",
     "output_type": "stream",
     "text": [
      "A ['./data/trainA/22_1_4_20170103233642227.jpg.chip.jpg']\n",
      "B ['./data/trainB/60_1_1_20170110120140583.jpg.chip.jpg']\n"
     ]
    },
    {
     "name": "stderr",
     "output_type": "stream",
     "text": [
      "Clipping input data to the valid range for imshow with RGB data ([0..1] for floats or [0..255] for integers).\n"
     ]
    },
    {
     "name": "stdout",
     "output_type": "stream",
     "text": [
      "[Age Epoch 0/50] [Batch 50/1296] [D loss: 0.207174, acc:  74%] [G loss: 1.994240, adv: 0.910728, recon: 0.793675, id: 0.802135]  time: 0:13:08.380403 \n",
      "A ['./data/trainA/26_0_0_20170120140037464.jpg.chip.jpg']\n",
      "B ['./data/trainB/53_0_0_20170117190917315.jpg.chip.jpg']\n",
      "A ['./data/trainA/26_0_1_20170117200522916.jpg.chip.jpg']\n",
      "B ['./data/trainB/57_1_0_20170117160411871.jpg.chip.jpg']\n"
     ]
    },
    {
     "name": "stderr",
     "output_type": "stream",
     "text": [
      "Clipping input data to the valid range for imshow with RGB data ([0..1] for floats or [0..255] for integers).\n"
     ]
    },
    {
     "name": "stdout",
     "output_type": "stream",
     "text": [
      "A ['./data/trainA/21_0_1_20170114032016183.jpg.chip.jpg']\n",
      "B ['./data/trainB/60_0_3_20170119205726487.jpg.chip.jpg']\n"
     ]
    },
    {
     "name": "stderr",
     "output_type": "stream",
     "text": [
      "Clipping input data to the valid range for imshow with RGB data ([0..1] for floats or [0..255] for integers).\n",
      "Clipping input data to the valid range for imshow with RGB data ([0..1] for floats or [0..255] for integers).\n",
      "Clipping input data to the valid range for imshow with RGB data ([0..1] for floats or [0..255] for integers).\n",
      "Clipping input data to the valid range for imshow with RGB data ([0..1] for floats or [0..255] for integers).\n"
     ]
    },
    {
     "name": "stdout",
     "output_type": "stream",
     "text": [
      "A ['./data/trainA/25_0_0_20170117195250189.jpg.chip.jpg']\n",
      "B ['./data/trainB/53_0_0_20170111200627419.jpg.chip.jpg']\n"
     ]
    },
    {
     "name": "stderr",
     "output_type": "stream",
     "text": [
      "Clipping input data to the valid range for imshow with RGB data ([0..1] for floats or [0..255] for integers).\n",
      "Clipping input data to the valid range for imshow with RGB data ([0..1] for floats or [0..255] for integers).\n",
      "Clipping input data to the valid range for imshow with RGB data ([0..1] for floats or [0..255] for integers).\n",
      "Clipping input data to the valid range for imshow with RGB data ([0..1] for floats or [0..255] for integers).\n"
     ]
    },
    {
     "name": "stdout",
     "output_type": "stream",
     "text": [
      "A ['./data/trainA/21_0_4_20161223214831392.jpg.chip.jpg']\n",
      "B ['./data/trainB/60_1_2_20170105174330388.jpg.chip.jpg']\n"
     ]
    },
    {
     "name": "stderr",
     "output_type": "stream",
     "text": [
      "Clipping input data to the valid range for imshow with RGB data ([0..1] for floats or [0..255] for integers).\n",
      "Clipping input data to the valid range for imshow with RGB data ([0..1] for floats or [0..255] for integers).\n",
      "Clipping input data to the valid range for imshow with RGB data ([0..1] for floats or [0..255] for integers).\n",
      "Clipping input data to the valid range for imshow with RGB data ([0..1] for floats or [0..255] for integers).\n"
     ]
    },
    {
     "name": "stdout",
     "output_type": "stream",
     "text": [
      "[Age Epoch 0/50] [Batch 100/1296] [D loss: 0.370364, acc:  36%] [G loss: 2.117227, adv: 0.999191, recon: 0.543162, id: 0.657137]  time: 0:28:37.210230 \n",
      "A ['./data/trainA/28_1_1_20170116014109875.jpg.chip.jpg']\n",
      "B ['./data/trainB/58_0_0_20170109012156576.jpg.chip.jpg']\n"
     ]
    },
    {
     "name": "stderr",
     "output_type": "stream",
     "text": [
      "Clipping input data to the valid range for imshow with RGB data ([0..1] for floats or [0..255] for integers).\n",
      "Clipping input data to the valid range for imshow with RGB data ([0..1] for floats or [0..255] for integers).\n"
     ]
    },
    {
     "name": "stdout",
     "output_type": "stream",
     "text": [
      "A ['./data/trainA/22_0_0_20170112202935851.jpg.chip.jpg']\n",
      "B ['./data/trainB/54_0_1_20170120223418357.jpg.chip.jpg']\n",
      "A ['./data/trainA/26_1_4_20170117152911110.jpg.chip.jpg']\n",
      "B ['./data/trainB/60_0_3_20170119211748888.jpg.chip.jpg']\n"
     ]
    },
    {
     "name": "stderr",
     "output_type": "stream",
     "text": [
      "Clipping input data to the valid range for imshow with RGB data ([0..1] for floats or [0..255] for integers).\n",
      "Clipping input data to the valid range for imshow with RGB data ([0..1] for floats or [0..255] for integers).\n",
      "Clipping input data to the valid range for imshow with RGB data ([0..1] for floats or [0..255] for integers).\n"
     ]
    },
    {
     "name": "stdout",
     "output_type": "stream",
     "text": [
      "A ['./data/trainA/24_0_0_20170116215529092.jpg.chip.jpg']\n",
      "B ['./data/trainB/54_0_0_20170117171442259.jpg.chip.jpg']\n"
     ]
    },
    {
     "name": "stderr",
     "output_type": "stream",
     "text": [
      "Clipping input data to the valid range for imshow with RGB data ([0..1] for floats or [0..255] for integers).\n",
      "Clipping input data to the valid range for imshow with RGB data ([0..1] for floats or [0..255] for integers).\n"
     ]
    },
    {
     "name": "stdout",
     "output_type": "stream",
     "text": [
      "A ['./data/trainA/30_1_0_20170117135748734.jpg.chip.jpg']\n",
      "B ['./data/trainB/58_0_0_20170117173315296.jpg.chip.jpg']\n"
     ]
    },
    {
     "name": "stderr",
     "output_type": "stream",
     "text": [
      "Clipping input data to the valid range for imshow with RGB data ([0..1] for floats or [0..255] for integers).\n",
      "Clipping input data to the valid range for imshow with RGB data ([0..1] for floats or [0..255] for integers).\n"
     ]
    },
    {
     "name": "stdout",
     "output_type": "stream",
     "text": [
      "[Age Epoch 0/50] [Batch 150/1296] [D loss: 0.180827, acc:  71%] [G loss: 1.830560, adv: 0.846901, recon: 0.621701, id: 0.709792]  time: 0:42:16.755224 \n",
      "A ['./data/trainA/25_0_0_20170117190329641.jpg.chip.jpg']\n",
      "B ['./data/trainB/54_1_3_20170117191109210.jpg.chip.jpg']\n"
     ]
    },
    {
     "name": "stderr",
     "output_type": "stream",
     "text": [
      "Clipping input data to the valid range for imshow with RGB data ([0..1] for floats or [0..255] for integers).\n",
      "Clipping input data to the valid range for imshow with RGB data ([0..1] for floats or [0..255] for integers).\n",
      "Clipping input data to the valid range for imshow with RGB data ([0..1] for floats or [0..255] for integers).\n"
     ]
    },
    {
     "name": "stdout",
     "output_type": "stream",
     "text": [
      "A ['./data/trainA/26_1_3_20170119150012157.jpg.chip.jpg']\n",
      "B ['./data/trainB/56_0_0_20170109012217972.jpg.chip.jpg']\n"
     ]
    },
    {
     "name": "stderr",
     "output_type": "stream",
     "text": [
      "Clipping input data to the valid range for imshow with RGB data ([0..1] for floats or [0..255] for integers).\n"
     ]
    },
    {
     "name": "stdout",
     "output_type": "stream",
     "text": [
      "A ['./data/trainA/26_1_1_20170116232824362.jpg.chip.jpg']\n",
      "B ['./data/trainB/54_0_0_20170104211828524.jpg.chip.jpg']\n"
     ]
    },
    {
     "name": "stderr",
     "output_type": "stream",
     "text": [
      "Clipping input data to the valid range for imshow with RGB data ([0..1] for floats or [0..255] for integers).\n",
      "Clipping input data to the valid range for imshow with RGB data ([0..1] for floats or [0..255] for integers).\n"
     ]
    },
    {
     "name": "stdout",
     "output_type": "stream",
     "text": [
      "A ['./data/trainA/25_0_0_20170119171843896.jpg.chip.jpg']\n",
      "B ['./data/trainB/58_0_0_20170109015156022.jpg.chip.jpg']\n"
     ]
    },
    {
     "name": "stderr",
     "output_type": "stream",
     "text": [
      "Clipping input data to the valid range for imshow with RGB data ([0..1] for floats or [0..255] for integers).\n",
      "Clipping input data to the valid range for imshow with RGB data ([0..1] for floats or [0..255] for integers).\n",
      "Clipping input data to the valid range for imshow with RGB data ([0..1] for floats or [0..255] for integers).\n",
      "Clipping input data to the valid range for imshow with RGB data ([0..1] for floats or [0..255] for integers).\n"
     ]
    },
    {
     "name": "stdout",
     "output_type": "stream",
     "text": [
      "A ['./data/trainA/23_0_4_20170116221049556.jpg.chip.jpg']\n",
      "B ['./data/trainB/54_0_1_20170117143030074.jpg.chip.jpg']\n"
     ]
    },
    {
     "name": "stderr",
     "output_type": "stream",
     "text": [
      "Clipping input data to the valid range for imshow with RGB data ([0..1] for floats or [0..255] for integers).\n",
      "Clipping input data to the valid range for imshow with RGB data ([0..1] for floats or [0..255] for integers).\n",
      "Clipping input data to the valid range for imshow with RGB data ([0..1] for floats or [0..255] for integers).\n",
      "Clipping input data to the valid range for imshow with RGB data ([0..1] for floats or [0..255] for integers).\n"
     ]
    },
    {
     "name": "stdout",
     "output_type": "stream",
     "text": [
      "[Age Epoch 0/50] [Batch 200/1296] [D loss: 0.178152, acc:  78%] [G loss: 1.456721, adv: 0.682329, recon: 0.415143, id: 0.535149]  time: 0:54:36.718917 \n",
      "A ['./data/trainA/28_0_0_20170117180506408.jpg.chip.jpg']\n",
      "B ['./data/trainB/52_0_0_20170111205535761.jpg.chip.jpg']\n"
     ]
    },
    {
     "name": "stderr",
     "output_type": "stream",
     "text": [
      "Clipping input data to the valid range for imshow with RGB data ([0..1] for floats or [0..255] for integers).\n",
      "Clipping input data to the valid range for imshow with RGB data ([0..1] for floats or [0..255] for integers).\n",
      "Clipping input data to the valid range for imshow with RGB data ([0..1] for floats or [0..255] for integers).\n",
      "Clipping input data to the valid range for imshow with RGB data ([0..1] for floats or [0..255] for integers).\n"
     ]
    },
    {
     "name": "stdout",
     "output_type": "stream",
     "text": [
      "A ['./data/trainA/25_1_1_20170112231543709.jpg.chip.jpg']\n",
      "B ['./data/trainB/52_0_1_20170113184035487.jpg.chip.jpg']\n"
     ]
    },
    {
     "name": "stderr",
     "output_type": "stream",
     "text": [
      "Clipping input data to the valid range for imshow with RGB data ([0..1] for floats or [0..255] for integers).\n",
      "Clipping input data to the valid range for imshow with RGB data ([0..1] for floats or [0..255] for integers).\n",
      "Clipping input data to the valid range for imshow with RGB data ([0..1] for floats or [0..255] for integers).\n"
     ]
    },
    {
     "name": "stdout",
     "output_type": "stream",
     "text": [
      "A ['./data/trainA/29_1_2_20170104021825031.jpg.chip.jpg']\n",
      "B ['./data/trainB/55_0_1_20170117191613534.jpg.chip.jpg']\n"
     ]
    },
    {
     "name": "stderr",
     "output_type": "stream",
     "text": [
      "Clipping input data to the valid range for imshow with RGB data ([0..1] for floats or [0..255] for integers).\n",
      "Clipping input data to the valid range for imshow with RGB data ([0..1] for floats or [0..255] for integers).\n"
     ]
    },
    {
     "name": "stdout",
     "output_type": "stream",
     "text": [
      "A ['./data/trainA/20_1_0_20170117192327053.jpg.chip.jpg']\n",
      "B ['./data/trainB/58_0_0_20170111210633610.jpg.chip.jpg']\n"
     ]
    },
    {
     "name": "stderr",
     "output_type": "stream",
     "text": [
      "Clipping input data to the valid range for imshow with RGB data ([0..1] for floats or [0..255] for integers).\n",
      "Clipping input data to the valid range for imshow with RGB data ([0..1] for floats or [0..255] for integers).\n",
      "Clipping input data to the valid range for imshow with RGB data ([0..1] for floats or [0..255] for integers).\n"
     ]
    },
    {
     "name": "stdout",
     "output_type": "stream",
     "text": [
      "A ['./data/trainA/28_1_3_20170120220537315.jpg.chip.jpg']\n",
      "B ['./data/trainB/55_0_3_20170119204438679.jpg.chip.jpg']\n"
     ]
    },
    {
     "name": "stderr",
     "output_type": "stream",
     "text": [
      "Clipping input data to the valid range for imshow with RGB data ([0..1] for floats or [0..255] for integers).\n",
      "Clipping input data to the valid range for imshow with RGB data ([0..1] for floats or [0..255] for integers).\n",
      "Clipping input data to the valid range for imshow with RGB data ([0..1] for floats or [0..255] for integers).\n"
     ]
    },
    {
     "name": "stdout",
     "output_type": "stream",
     "text": [
      "[Age Epoch 0/50] [Batch 250/1296] [D loss: 0.459891, acc:  33%] [G loss: 1.751958, adv: 0.828523, recon: 0.428996, id: 0.538777]  time: 1:06:52.025271 \n",
      "A ['./data/trainA/24_1_4_20170117150521764.jpg.chip.jpg']\n",
      "B ['./data/trainB/56_0_0_20170104210832380.jpg.chip.jpg']\n"
     ]
    },
    {
     "name": "stderr",
     "output_type": "stream",
     "text": [
      "Clipping input data to the valid range for imshow with RGB data ([0..1] for floats or [0..255] for integers).\n",
      "Clipping input data to the valid range for imshow with RGB data ([0..1] for floats or [0..255] for integers).\n",
      "Clipping input data to the valid range for imshow with RGB data ([0..1] for floats or [0..255] for integers).\n"
     ]
    },
    {
     "name": "stdout",
     "output_type": "stream",
     "text": [
      "A ['./data/trainA/23_1_2_20170116173124400.jpg.chip.jpg']\n",
      "B ['./data/trainB/59_0_0_20170119211444609.jpg.chip.jpg']\n"
     ]
    },
    {
     "name": "stderr",
     "output_type": "stream",
     "text": [
      "Clipping input data to the valid range for imshow with RGB data ([0..1] for floats or [0..255] for integers).\n",
      "Clipping input data to the valid range for imshow with RGB data ([0..1] for floats or [0..255] for integers).\n",
      "Clipping input data to the valid range for imshow with RGB data ([0..1] for floats or [0..255] for integers).\n"
     ]
    },
    {
     "name": "stdout",
     "output_type": "stream",
     "text": [
      "A ['./data/trainA/30_1_3_20170117142506618.jpg.chip.jpg']\n",
      "B ['./data/trainB/50_0_3_20170119202012733.jpg.chip.jpg']\n"
     ]
    },
    {
     "name": "stderr",
     "output_type": "stream",
     "text": [
      "Clipping input data to the valid range for imshow with RGB data ([0..1] for floats or [0..255] for integers).\n",
      "Clipping input data to the valid range for imshow with RGB data ([0..1] for floats or [0..255] for integers).\n",
      "Clipping input data to the valid range for imshow with RGB data ([0..1] for floats or [0..255] for integers).\n"
     ]
    },
    {
     "name": "stdout",
     "output_type": "stream",
     "text": [
      "A ['./data/trainA/28_0_3_20170119194510275.jpg.chip.jpg']\n",
      "B ['./data/trainB/50_0_4_20170116224718413.jpg.chip.jpg']\n"
     ]
    },
    {
     "name": "stderr",
     "output_type": "stream",
     "text": [
      "Clipping input data to the valid range for imshow with RGB data ([0..1] for floats or [0..255] for integers).\n",
      "Clipping input data to the valid range for imshow with RGB data ([0..1] for floats or [0..255] for integers).\n",
      "Clipping input data to the valid range for imshow with RGB data ([0..1] for floats or [0..255] for integers).\n"
     ]
    },
    {
     "name": "stdout",
     "output_type": "stream",
     "text": [
      "A ['./data/trainA/29_1_3_20170104232524938.jpg.chip.jpg']\n",
      "B ['./data/trainB/55_0_0_20170120221712005.jpg.chip.jpg']\n"
     ]
    },
    {
     "name": "stderr",
     "output_type": "stream",
     "text": [
      "Clipping input data to the valid range for imshow with RGB data ([0..1] for floats or [0..255] for integers).\n"
     ]
    },
    {
     "name": "stdout",
     "output_type": "stream",
     "text": [
      "[Age Epoch 0/50] [Batch 300/1296] [D loss: 0.489831, acc:  28%] [G loss: 0.849501, adv: 0.355784, recon: 0.627583, id: 0.598640]  time: 1:18:36.954112 \n",
      "A ['./data/trainA/22_1_1_20170112231734479.jpg.chip.jpg']\n",
      "B ['./data/trainB/54_0_2_20170109010628431.jpg.chip.jpg']\n"
     ]
    },
    {
     "name": "stderr",
     "output_type": "stream",
     "text": [
      "Clipping input data to the valid range for imshow with RGB data ([0..1] for floats or [0..255] for integers).\n",
      "Clipping input data to the valid range for imshow with RGB data ([0..1] for floats or [0..255] for integers).\n",
      "Clipping input data to the valid range for imshow with RGB data ([0..1] for floats or [0..255] for integers).\n"
     ]
    },
    {
     "name": "stdout",
     "output_type": "stream",
     "text": [
      "A ['./data/trainA/22_1_0_20170112233731616.jpg.chip.jpg']\n",
      "B ['./data/trainB/59_1_2_20170104212726717.jpg.chip.jpg']\n"
     ]
    },
    {
     "name": "stderr",
     "output_type": "stream",
     "text": [
      "Clipping input data to the valid range for imshow with RGB data ([0..1] for floats or [0..255] for integers).\n"
     ]
    },
    {
     "name": "stdout",
     "output_type": "stream",
     "text": [
      "A ['./data/trainA/26_0_3_20170119181428332.jpg.chip.jpg']\n",
      "B ['./data/trainB/53_0_1_20170116192938845.jpg.chip.jpg']\n"
     ]
    },
    {
     "name": "stderr",
     "output_type": "stream",
     "text": [
      "Clipping input data to the valid range for imshow with RGB data ([0..1] for floats or [0..255] for integers).\n"
     ]
    },
    {
     "name": "stdout",
     "output_type": "stream",
     "text": [
      "A ['./data/trainA/26_0_1_20170117200033549.jpg.chip.jpg']\n",
      "B ['./data/trainB/55_1_0_20170109220443515.jpg.chip.jpg']\n"
     ]
    },
    {
     "name": "stderr",
     "output_type": "stream",
     "text": [
      "Clipping input data to the valid range for imshow with RGB data ([0..1] for floats or [0..255] for integers).\n",
      "Clipping input data to the valid range for imshow with RGB data ([0..1] for floats or [0..255] for integers).\n"
     ]
    },
    {
     "name": "stdout",
     "output_type": "stream",
     "text": [
      "A ['./data/trainA/27_0_2_20170116165457643.jpg.chip.jpg']\n",
      "B ['./data/trainB/54_0_0_20170104212621156.jpg.chip.jpg']\n"
     ]
    },
    {
     "name": "stderr",
     "output_type": "stream",
     "text": [
      "Clipping input data to the valid range for imshow with RGB data ([0..1] for floats or [0..255] for integers).\n",
      "Clipping input data to the valid range for imshow with RGB data ([0..1] for floats or [0..255] for integers).\n",
      "Clipping input data to the valid range for imshow with RGB data ([0..1] for floats or [0..255] for integers).\n",
      "Clipping input data to the valid range for imshow with RGB data ([0..1] for floats or [0..255] for integers).\n"
     ]
    },
    {
     "name": "stdout",
     "output_type": "stream",
     "text": [
      "[Age Epoch 0/50] [Batch 350/1296] [D loss: 0.328497, acc:  31%] [G loss: 1.085553, adv: 0.490283, recon: 0.479822, id: 0.439364]  time: 1:30:24.852335 \n",
      "A ['./data/trainA/30_0_0_20170113135527027.jpg.chip.jpg']\n",
      "B ['./data/trainB/54_0_0_20170117184739996.jpg.chip.jpg']\n"
     ]
    },
    {
     "name": "stderr",
     "output_type": "stream",
     "text": [
      "Clipping input data to the valid range for imshow with RGB data ([0..1] for floats or [0..255] for integers).\n"
     ]
    },
    {
     "name": "stdout",
     "output_type": "stream",
     "text": [
      "A ['./data/trainA/26_0_0_20170116215855605.jpg.chip.jpg']\n",
      "B ['./data/trainB/55_0_3_20170119201213412.jpg.chip.jpg']\n"
     ]
    },
    {
     "name": "stderr",
     "output_type": "stream",
     "text": [
      "Clipping input data to the valid range for imshow with RGB data ([0..1] for floats or [0..255] for integers).\n",
      "Clipping input data to the valid range for imshow with RGB data ([0..1] for floats or [0..255] for integers).\n",
      "Clipping input data to the valid range for imshow with RGB data ([0..1] for floats or [0..255] for integers).\n"
     ]
    },
    {
     "name": "stdout",
     "output_type": "stream",
     "text": [
      "A ['./data/trainA/28_0_0_20170116204038276.jpg.chip.jpg']\n",
      "B ['./data/trainB/60_1_0_20170110141239841.jpg.chip.jpg']\n"
     ]
    },
    {
     "name": "stderr",
     "output_type": "stream",
     "text": [
      "Clipping input data to the valid range for imshow with RGB data ([0..1] for floats or [0..255] for integers).\n",
      "Clipping input data to the valid range for imshow with RGB data ([0..1] for floats or [0..255] for integers).\n"
     ]
    },
    {
     "name": "stdout",
     "output_type": "stream",
     "text": [
      "A ['./data/trainA/30_0_1_20170117123902427.jpg.chip.jpg']\n",
      "B ['./data/trainB/50_1_0_20170110141207224.jpg.chip.jpg']\n"
     ]
    },
    {
     "name": "stderr",
     "output_type": "stream",
     "text": [
      "Clipping input data to the valid range for imshow with RGB data ([0..1] for floats or [0..255] for integers).\n"
     ]
    },
    {
     "name": "stdout",
     "output_type": "stream",
     "text": [
      "A ['./data/trainA/20_1_3_20170119144712261.jpg.chip.jpg']\n",
      "B ['./data/trainB/53_0_3_20170119164140382.jpg.chip.jpg']\n"
     ]
    },
    {
     "name": "stderr",
     "output_type": "stream",
     "text": [
      "Clipping input data to the valid range for imshow with RGB data ([0..1] for floats or [0..255] for integers).\n",
      "Clipping input data to the valid range for imshow with RGB data ([0..1] for floats or [0..255] for integers).\n",
      "Clipping input data to the valid range for imshow with RGB data ([0..1] for floats or [0..255] for integers).\n"
     ]
    },
    {
     "name": "stdout",
     "output_type": "stream",
     "text": [
      "[Age Epoch 0/50] [Batch 400/1296] [D loss: 0.323042, acc:  35%] [G loss: 1.003274, adv: 0.455235, recon: 0.418359, id: 0.371456]  time: 1:42:41.532632 \n",
      "A ['./data/trainA/27_0_1_20170114034625293.jpg.chip.jpg']\n",
      "B ['./data/trainB/50_0_0_20170117160624326.jpg.chip.jpg']\n"
     ]
    },
    {
     "name": "stderr",
     "output_type": "stream",
     "text": [
      "Clipping input data to the valid range for imshow with RGB data ([0..1] for floats or [0..255] for integers).\n"
     ]
    },
    {
     "name": "stdout",
     "output_type": "stream",
     "text": [
      "A ['./data/trainA/26_0_0_20170116204100913.jpg.chip.jpg']\n",
      "B ['./data/trainB/54_0_3_20170119210231791.jpg.chip.jpg']\n"
     ]
    },
    {
     "name": "stderr",
     "output_type": "stream",
     "text": [
      "Clipping input data to the valid range for imshow with RGB data ([0..1] for floats or [0..255] for integers).\n",
      "Clipping input data to the valid range for imshow with RGB data ([0..1] for floats or [0..255] for integers).\n"
     ]
    },
    {
     "name": "stdout",
     "output_type": "stream",
     "text": [
      "A ['./data/trainA/28_0_2_20170116190050357.jpg.chip.jpg']\n",
      "B ['./data/trainB/60_1_0_20170110140829202.jpg.chip.jpg']\n"
     ]
    },
    {
     "name": "stderr",
     "output_type": "stream",
     "text": [
      "Clipping input data to the valid range for imshow with RGB data ([0..1] for floats or [0..255] for integers).\n"
     ]
    },
    {
     "name": "stdout",
     "output_type": "stream",
     "text": [
      "A ['./data/trainA/21_0_0_20170104230101545.jpg.chip.jpg']\n",
      "B ['./data/trainB/59_1_2_20170104212726717.jpg.chip.jpg']\n",
      "A ['./data/trainA/26_1_3_20170104215629245.jpg.chip.jpg']\n",
      "B ['./data/trainB/54_1_1_20170113013054027.jpg.chip.jpg']\n",
      "[Age Epoch 0/50] [Batch 450/1296] [D loss: 0.443555, acc:  36%] [G loss: 1.327461, adv: 0.605151, recon: 0.540556, id: 0.388373]  time: 1:55:05.281852 \n",
      "A ['./data/trainA/27_1_0_20170117202228246.jpg.chip.jpg']\n",
      "B ['./data/trainB/51_0_0_20170117160749894.jpg.chip.jpg']\n",
      "A ['./data/trainA/30_1_3_20170117153305045.jpg.chip.jpg']\n",
      "B ['./data/trainB/54_0_1_20170117190009561.jpg.chip.jpg']\n"
     ]
    },
    {
     "name": "stderr",
     "output_type": "stream",
     "text": [
      "Clipping input data to the valid range for imshow with RGB data ([0..1] for floats or [0..255] for integers).\n",
      "Clipping input data to the valid range for imshow with RGB data ([0..1] for floats or [0..255] for integers).\n"
     ]
    },
    {
     "name": "stdout",
     "output_type": "stream",
     "text": [
      "A ['./data/trainA/25_0_4_20170116003106425.jpg.chip.jpg']\n",
      "B ['./data/trainB/53_0_0_20170117190917315.jpg.chip.jpg']\n"
     ]
    },
    {
     "name": "stderr",
     "output_type": "stream",
     "text": [
      "Clipping input data to the valid range for imshow with RGB data ([0..1] for floats or [0..255] for integers).\n"
     ]
    },
    {
     "name": "stdout",
     "output_type": "stream",
     "text": [
      "A ['./data/trainA/24_0_0_20170117150007795.jpg.chip.jpg']\n",
      "B ['./data/trainB/59_0_0_20170104212405077.jpg.chip.jpg']\n"
     ]
    },
    {
     "name": "stderr",
     "output_type": "stream",
     "text": [
      "Clipping input data to the valid range for imshow with RGB data ([0..1] for floats or [0..255] for integers).\n",
      "Clipping input data to the valid range for imshow with RGB data ([0..1] for floats or [0..255] for integers).\n",
      "Clipping input data to the valid range for imshow with RGB data ([0..1] for floats or [0..255] for integers).\n"
     ]
    },
    {
     "name": "stdout",
     "output_type": "stream",
     "text": [
      "A ['./data/trainA/26_0_0_20170105183712607.jpg.chip.jpg']\n",
      "B ['./data/trainB/58_0_0_20170120224650587.jpg.chip.jpg']\n"
     ]
    },
    {
     "name": "stderr",
     "output_type": "stream",
     "text": [
      "Clipping input data to the valid range for imshow with RGB data ([0..1] for floats or [0..255] for integers).\n",
      "Clipping input data to the valid range for imshow with RGB data ([0..1] for floats or [0..255] for integers).\n",
      "Clipping input data to the valid range for imshow with RGB data ([0..1] for floats or [0..255] for integers).\n"
     ]
    },
    {
     "name": "stdout",
     "output_type": "stream",
     "text": [
      "[Age Epoch 0/50] [Batch 500/1296] [D loss: 0.215218, acc:  63%] [G loss: 1.198459, adv: 0.549303, recon: 0.457003, id: 0.359953]  time: 2:07:13.229338 \n",
      "A ['./data/trainA/29_1_1_20170116000522670.jpg.chip.jpg']\n",
      "B ['./data/trainB/56_0_0_20170105161423995.jpg.chip.jpg']\n"
     ]
    },
    {
     "name": "stderr",
     "output_type": "stream",
     "text": [
      "Clipping input data to the valid range for imshow with RGB data ([0..1] for floats or [0..255] for integers).\n",
      "Clipping input data to the valid range for imshow with RGB data ([0..1] for floats or [0..255] for integers).\n",
      "Clipping input data to the valid range for imshow with RGB data ([0..1] for floats or [0..255] for integers).\n"
     ]
    }
   ],
   "source": [
    "from __future__ import print_function, division\n",
    "import scipy, os\n",
    "import scipy.misc\n",
    "\n",
    "from keras.datasets import mnist\n",
    "from keras_contrib.layers.normalization.instancenormalization import InstanceNormalization\n",
    "from keras.layers import Input, Dense, Reshape, Flatten, Dropout, Concatenate\n",
    "from keras.layers import BatchNormalization, Activation, ZeroPadding2D\n",
    "from keras.layers.advanced_activations import LeakyReLU\n",
    "from keras.activations import relu \n",
    "from keras.layers.convolutional import UpSampling2D, Conv2D, Conv2DTranspose\n",
    "from keras.models import Sequential, Model\n",
    "from keras.optimizers import Adam\n",
    "import datetime\n",
    "import matplotlib.pyplot as plt\n",
    "import sys\n",
    "import numpy as np\n",
    "import os\n",
    "import keras\n",
    "import shutil, os, random\n",
    "from keras.models import load_model\n",
    "\n",
    "class CycleGAN():\n",
    "    def __init__(self):\n",
    "        # Input shape\n",
    "        self.img_rows = 256\n",
    "        self.img_cols = 256\n",
    "        self.channels = 3\n",
    "        self.img_shape = (self.img_rows, self.img_cols, self.channels)  \n",
    "\n",
    "        # Configure data loader\n",
    "        self.dataset_name = 'data'\n",
    "        self.data_loader = DataLoader(dataset_name=self.dataset_name,\n",
    "                                      img_res=(self.img_rows, self.img_cols))\n",
    "\n",
    "\n",
    "        # Calculate output shape of D (PatchGAN)\n",
    "        patch = int(self.img_rows / 2**4)\n",
    "        self.disc_patch = (patch, patch, 1)\n",
    "\n",
    "        # Number of filters in the first layer of G and D\n",
    "        self.gf = 64\n",
    "        self.df = 64\n",
    "\n",
    "        # Loss weights\n",
    "        self.lambda_cycle = 0.1                   # Cycle-consistency loss\n",
    "        self.lambda_id = 0.1 * self.lambda_cycle    # Identity loss\n",
    "\n",
    "        optimizer = Adam(0.0002, 0.5)\n",
    "        pdir = \"/content/drive/My Drive/keras_combined_gan/\"\n",
    "        # Build and compile the discriminators\n",
    "        self.d_A = self.build_discriminator()\n",
    "        self.d_A.compile(loss='mse',\n",
    "          optimizer=optimizer,\n",
    "          metrics=['accuracy'])\n",
    "                \n",
    "        \n",
    "        self.d_B = self.build_discriminator()\n",
    "        self.d_B.compile(loss='mse',\n",
    "          optimizer=optimizer,\n",
    "          metrics=['accuracy'])\n",
    "        \n",
    "\n",
    "        #-------------------------\n",
    "        # Construct Computational\n",
    "        #   Graph of Generators\n",
    "        #-------------------------\n",
    "\n",
    "        # Build the generators\n",
    "        self.g_AB = self.build_generator()\n",
    "        self.g_BA = self.build_generator()\n",
    "\n",
    "        # Input images from both domains\n",
    "        img_A = Input(shape=self.img_shape)\n",
    "        img_B = Input(shape=self.img_shape)\n",
    "\n",
    "        # Translate images to the other domain\n",
    "        fake_B = self.g_AB(img_A)\n",
    "        fake_A = self.g_BA(img_B)\n",
    "        # Translate images back to original domain\n",
    "        reconstr_A = self.g_BA(fake_B)\n",
    "        reconstr_B = self.g_AB(fake_A)\n",
    "        # Identity mapping of images\n",
    "        img_A_id = self.g_BA(img_A)\n",
    "        img_B_id = self.g_AB(img_B)\n",
    "\n",
    "        # For the combined model we will only train the generators\n",
    "        self.d_A.trainable = False\n",
    "        self.d_B.trainable = False        \n",
    "\n",
    "        # Discriminators determines validity of translated images\n",
    "        valid_A = self.d_A(fake_A)\n",
    "        valid_B = self.d_B(fake_B)    \n",
    "\n",
    "        # Combined model trains generators to fool discriminators\n",
    "        self.combined = Model(inputs=[img_A, img_B],\n",
    "                                outputs=[ valid_A, valid_B,\n",
    "                                        reconstr_A, reconstr_B,\n",
    "                                        img_A_id, img_B_id ])\n",
    "        self.combined.compile(loss=['mse', 'mse',\n",
    "                                    'mae', 'mae',\n",
    "                                  'mae', 'mae'],\n",
    "                            loss_weights=[  1, 1,\n",
    "                                          self.lambda_cycle, self.lambda_cycle,\n",
    "                                          self.lambda_id, self.lambda_id ],\n",
    "                            optimizer=optimizer)\n",
    "\n",
    "    def build_generator(self):\n",
    "        \"\"\"Resnet Generator\"\"\"\n",
    "\n",
    "        def conv2d(layer_input, filters=16, strides=1, name=None, f_size=4):\n",
    "            d = Conv2D(filters, kernel_size=f_size, strides=strides, padding='same', name=name)(layer_input)\n",
    "            d = InstanceNormalization(name=name+\"_bn\")(d)\n",
    "            d = Activation('relu')(d)\n",
    "            return d\n",
    "          \n",
    "        def residual(layer_input, filters=16, strides=1, name=None, f_size=3):\n",
    "            d = conv2d(layer_input, filters=filters, strides=strides, name=name, f_size=f_size)\n",
    "            d = Conv2D(filters, kernel_size=f_size, strides=strides, padding='same', name=name+\"_2\")(d)\n",
    "            d = InstanceNormalization(name=name+\"_bn2\")(d)\n",
    "            d = keras.layers.add([d, layer_input])\n",
    "            return d\n",
    "\n",
    "        def conv2d_transpose(layer_input, filters=16, strides=1, name=None, f_size=4):\n",
    "            u = Conv2DTranspose(filters, strides=strides, name=name, kernel_size=f_size, padding='same')(layer_input)\n",
    "            u = InstanceNormalization(name=name+\"_bn\")(u)\n",
    "            u = Activation('relu')(u)\n",
    "            return u\n",
    "\n",
    "        # Image input\n",
    "        c0 = Input(shape=self.img_shape)\n",
    "        c1 = conv2d(c0, filters=self.gf, strides=1, name=\"g_e1\", f_size=7)\n",
    "        c2 = conv2d(c1, filters=self.gf*2, strides=2, name=\"g_e2\", f_size=3)\n",
    "        c3 = conv2d(c2, filters=self.gf*4, strides=2, name=\"g_e3\", f_size=3)\n",
    "        \n",
    "        r1 = residual(c3, filters=self.gf*4, name='g_r1')\n",
    "        r2 = residual(r1, self.gf*4, name='g_r2')\n",
    "        r3 = residual(r2, self.gf*4, name='g_r3')\n",
    "        r4 = residual(r3, self.gf*4, name='g_r4')\n",
    "        r5 = residual(r4, self.gf*4, name='g_r5')\n",
    "        r6 = residual(r5, self.gf*4, name='g_r6')\n",
    "        r7 = residual(r6, self.gf*4, name='g_r7')\n",
    "        r8 = residual(r7, self.gf*4, name='g_r8')\n",
    "        r9 = residual(r8, self.gf*4, name='g_r9')\n",
    "        \n",
    "        d1 = conv2d_transpose(r9, filters=self.gf*2, f_size=3, strides=2, name='g_d1_dc')\n",
    "        d2 = conv2d_transpose(d1, filters=self.gf, f_size=3, strides=2, name='g_d2_dc')\n",
    "        \n",
    "        output_img = Conv2D(self.channels, kernel_size=7, strides=1, padding='same', activation='tanh')(d2)\n",
    "\n",
    "        return Model(inputs=[c0], outputs=[output_img])\n",
    "\n",
    "    def build_discriminator(self):\n",
    "\n",
    "        def d_layer(layer_input, filters, f_size=4, normalization=True):\n",
    "            \"\"\"Discriminator layer\"\"\"\n",
    "            d = Conv2D(filters, kernel_size=f_size, strides=2, padding='same')(layer_input)\n",
    "            d = LeakyReLU(alpha=0.2)(d)\n",
    "            if normalization:\n",
    "                d = InstanceNormalization()(d)\n",
    "            return d\n",
    "\n",
    "        img = Input(shape=self.img_shape)\n",
    "\n",
    "        d1 = d_layer(img, self.df, normalization=False)\n",
    "        d2 = d_layer(d1, self.df*2)\n",
    "        d3 = d_layer(d2, self.df*4)\n",
    "        d4 = d_layer(d3, self.df*8)\n",
    "\n",
    "        validity = Conv2D(1, kernel_size=4, strides=1, padding='same')(d4)\n",
    "\n",
    "        return Model(img, validity)\n",
    "\n",
    "    def train(self, epochs, batch_size=1, sample_interval=50):\n",
    "\n",
    "        start_time = datetime.datetime.now()\n",
    "\n",
    "        # Adversarial loss ground truths\n",
    "        valid = np.ones((batch_size,) + self.disc_patch)\n",
    "        fake = np.zeros((batch_size,) + self.disc_patch)\n",
    "        for epoch in range(epochs):\n",
    "            for batch_i, (imgs_A, imgs_B) in enumerate(self.data_loader.load_batch(batch_size)):\n",
    "\n",
    "                # ----------------------\n",
    "                #  Train Discriminators\n",
    "                # ----------------------\n",
    "\n",
    "                # Translate images to opposite domain     \n",
    "                fake_B = self.g_AB.predict([imgs_A])\n",
    "                fake_A = self.g_BA.predict([imgs_B])\n",
    "\n",
    "                # Train the discriminators (original images = real / translated = Fake)\n",
    "                dA_loss_real = self.d_A.train_on_batch(imgs_A, valid)\n",
    "                dA_loss_fake = self.d_A.train_on_batch(fake_A, fake)               \n",
    "                dA_loss = 0.5 * np.add(dA_loss_real, dA_loss_fake)\n",
    "\n",
    "                dB_loss_real = self.d_B.train_on_batch(imgs_B, valid)                \n",
    "                dB_loss_fake = self.d_B.train_on_batch(fake_B, fake)                \n",
    "                dB_loss = 0.5 * np.add(dB_loss_real, dB_loss_fake)\n",
    "\n",
    "                # Total disciminator loss\n",
    "                d_loss = 0.5 * np.add(dA_loss, dB_loss)\n",
    "                \n",
    "                # ------------------\n",
    "                #  Train Generators\n",
    "                # ------------------\n",
    "\n",
    "                # Train the generators\n",
    "                g_loss = self.combined.train_on_batch([imgs_A, imgs_B],\n",
    "                                                        [valid, valid,\n",
    "                                                        imgs_A, imgs_B,\n",
    "                                                        imgs_A, imgs_B])                                          \n",
    "                \n",
    "                elapsed_time = datetime.datetime.now() - start_time\n",
    "                if batch_i%50==0:\n",
    "                  # Plot the progress\n",
    "                  print (\"[Age Epoch %d/%d] [Batch %d/%d] [D loss: %f, acc: %3d%%] [G loss: %05f, adv: %05f, recon: %05f, id: %05f]  time: %s \" \\\n",
    "                                                                          % ( epoch, epochs,\n",
    "                                                                              batch_i, self.data_loader.n_batches,\n",
    "                                                                              d_loss[0], 100*d_loss[1],\n",
    "                                                                              g_loss[0],\n",
    "                                                                              np.mean(g_loss[1:3]),\n",
    "                                                                              np.mean(g_loss[3:5]),\n",
    "                                                                              np.mean(g_loss[5:6]),\n",
    "                                                                              elapsed_time))  \n",
    "                  \n",
    "                                                                              \n",
    "                # If at save interval => save generated image samples\n",
    "                if batch_i % sample_interval == 0:\n",
    "                    self.sample_images(epoch, batch_i)    \n",
    "                  \n",
    "            \n",
    "    def sample_images(self, epoch, batch_i):\n",
    "        os.makedirs('images/%s' % self.dataset_name, exist_ok=True)\n",
    "        r, c = 2, 3\n",
    "        imgs_A = self.data_loader.load_data(domain=\"A\", batch_size=1, is_testing=False)\n",
    "        imgs_B = self.data_loader.load_data(domain=\"B\", batch_size=1, is_testing=False)\n",
    "\n",
    "        # Translate images to the other domain\n",
    "        fake_B = self.g_AB.predict([imgs_A])\n",
    "        fake_A = self.g_BA.predict([imgs_B])\n",
    "        # Translate back to original domain\n",
    "        reconstr_A = self.g_BA.predict([fake_B])\n",
    "        reconstr_B = self.g_AB.predict([fake_A])\n",
    "\n",
    "        gen_imgs = np.concatenate([imgs_A, fake_B, reconstr_A, imgs_B, fake_A, reconstr_B])\n",
    "\n",
    "        # Rescale images 0 - 1\n",
    "        gen_imgs = 0.5 * gen_imgs + 0.5\n",
    "\n",
    "        titles = ['Original', 'Translated', 'Reconstructed']\n",
    "        fig, axs = plt.subplots(r, c)\n",
    "        cnt = 0\n",
    "        for i in range(r):\n",
    "            for j in range(c):\n",
    "                axs[i,j].imshow(gen_imgs[cnt])\n",
    "                axs[i, j].set_title(titles[j])\n",
    "                axs[i,j].axis('off')\n",
    "                cnt += 1\n",
    "        fig.savefig(\"images/%s/%d_%d.png\" % (self.dataset_name, epoch, batch_i))\n",
    "        plt.close()\n",
    "        \n",
    "    def run_20_to_50(self, image):\n",
    "        imgs_A = self.data_loader.load_data(domain=\"A\", batch_size=1, is_testing=True)        \n",
    "        fake_B = self.g_AB.predict(imgs_A)\n",
    "\n",
    "gan = CycleGAN()\n",
    "gan.train(epochs=50, batch_size=2, sample_interval=10)"
   ]
  },
  {
   "cell_type": "markdown",
   "metadata": {
    "colab_type": "text",
    "id": "0L0X8aDAL6tn"
   },
   "source": [
    "Face Detection"
   ]
  },
  {
   "cell_type": "code",
   "execution_count": null,
   "metadata": {
    "colab": {},
    "colab_type": "code",
    "id": "86WqP9NLL6to"
   },
   "outputs": [],
   "source": [
    "!wget https://github.com/spmallick/learnopencv/raw/master/FaceDetectionComparison/models/opencv_face_detector_uint8.pb\n",
    "!wget https://raw.githubusercontent.com/opencv/opencv_extra/master/testdata/dnn/opencv_face_detector.pbtxt"
   ]
  },
  {
   "cell_type": "code",
   "execution_count": null,
   "metadata": {
    "colab": {},
    "colab_type": "code",
    "id": "4EDqZeEXL6tt"
   },
   "outputs": [],
   "source": [
    "!wget https://statics.sportskeeda.com/editor/2018/09/4c606-1536825356-800.jpg \n",
    "!mv 4c606-1536825356-800.jpg big3.jpg"
   ]
  },
  {
   "cell_type": "code",
   "execution_count": null,
   "metadata": {
    "colab": {},
    "colab_type": "code",
    "id": "KRY5G-0PL6t3"
   },
   "outputs": [],
   "source": [
    "import cv2\n",
    "%matplotlib inline \n",
    "from matplotlib import pyplot as plt\n",
    "from PIL import Image\n",
    "def detectFaceOpenCVDnn(net, frame):\n",
    "    frameOpencvDnn = frame.copy()\n",
    "    frameHeight = frameOpencvDnn.shape[0]\n",
    "    frameWidth = frameOpencvDnn.shape[1]\n",
    "    blob = cv2.dnn.blobFromImage(frameOpencvDnn, 1.0, (frameHeight, frameWidth), [104, 117, 123], False, False)\n",
    "\n",
    "    net.setInput(blob)\n",
    "    detections = net.forward()\n",
    "    bboxes = []\n",
    "    for i in range(detections.shape[2]):\n",
    "        confidence = detections[0, 0, i, 2]\n",
    "        if confidence > conf_threshold:\n",
    "            x1 = int(detections[0, 0, i, 3] * frameWidth)\n",
    "            y1 = int(detections[0, 0, i, 4] * frameHeight)\n",
    "            x2 = int(detections[0, 0, i, 5] * frameWidth)\n",
    "            y2 = int(detections[0, 0, i, 6] * frameHeight)\n",
    "            bboxes.append([x1, y1, x2, y2])\n",
    "            if not(x1<30 or y1<30 or x2>frameWidth-30 or y2>frameHeight-30):\n",
    "              y1, y2 = y1-20, y2+20\n",
    "              x1, x2 = x1-20, x2+20\n",
    "            else:\n",
    "              continue\n",
    "            crop_img = frameOpencvDnn[y1:y2, x1:x2]\n",
    "            crop_img = cv2.cvtColor(crop_img, cv2.COLOR_BGR2RGB).astype(\"float32\")\n",
    "            cv2.imwrite(\"cropped\"+str(i)+\".jpg\", crop_img)\n",
    "            inp = np.array([gan.data_loader.get_img(crop_img)])\n",
    "            old_img = gan.g_AB.predict([inp])\n",
    "            new_img = revert_img(old_img[0], (y2-y1, x2-x1))\n",
    "            new_img = cv2.cvtColor(new_img, cv2.COLOR_RGB2BGR).astype(\"float32\")\n",
    "            frameOpencvDnn[y1:y2, x1:x2] = new_img\n",
    "            scipy.misc.imsave(\"old\"+str(i)+\".jpg\", new_img)\n",
    "    return frameOpencvDnn, bboxes\n",
    "  \n",
    "conf_threshold = 0.8\n",
    "modelFile = \"opencv_face_detector_uint8.pb\"\n",
    "configFile = \"opencv_face_detector.pbtxt\"\n",
    "net = cv2.dnn.readNetFromTensorflow(modelFile, configFile)\n",
    "frame = cv2.imread(\"big3.jpg\")\n",
    "outOpencvDnn, bboxes = detectFaceOpenCVDnn(net,frame,0)\n",
    "cv2.imwrite(\"big3_old.jpg\", outOpencvDnn)\n",
    "outOpencvDnn, bboxes = detectFaceOpenCVDnn(net,frame,1)\n",
    "cv2.imwrite(\"big3_black.jpg\", outOpencvDnn)"
   ]
  },
  {
   "cell_type": "code",
   "execution_count": null,
   "metadata": {
    "colab": {},
    "colab_type": "code",
    "id": "uAkPXun9L6uB"
   },
   "outputs": [],
   "source": []
  },
  {
   "cell_type": "code",
   "execution_count": null,
   "metadata": {},
   "outputs": [],
   "source": []
  }
 ],
 "metadata": {
  "colab": {
   "name": "Faceapp with cyclegan.ipynb",
   "provenance": []
  },
  "kernelspec": {
   "display_name": "Python 3",
   "language": "python",
   "name": "python3"
  },
  "language_info": {
   "codemirror_mode": {
    "name": "ipython",
    "version": 3
   },
   "file_extension": ".py",
   "mimetype": "text/x-python",
   "name": "python",
   "nbconvert_exporter": "python",
   "pygments_lexer": "ipython3",
   "version": "3.6.13"
  }
 },
 "nbformat": 4,
 "nbformat_minor": 1
}
